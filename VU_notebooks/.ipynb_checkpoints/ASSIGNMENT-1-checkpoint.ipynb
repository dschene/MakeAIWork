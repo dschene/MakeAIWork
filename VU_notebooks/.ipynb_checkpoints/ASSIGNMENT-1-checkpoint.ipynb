{
 "cells": [
  {
   "cell_type": "markdown",
   "metadata": {},
   "source": [
    "# Assignment 1: Calculation, Strings, Boolean Expressions and Conditions\n",
    "\n",
    "### Due: Friday the 2nd of November 2018 at 23:59 \n",
    "\n",
    "- Please name your notebook with the following naming convention: ASSIGNMENT_1_FIRSTNAME_LASTNAME.ipynb \n",
    "- Please submit your assignment using [this google form](https://goo.gl/forms/8U5qwqANbNSFMuWx2)\n",
    "- If you have **questions** about this topic, please refer to the **forum on the Canvas site**.\n",
    "\n",
    "\n",
    "In this block, we covered the following chapters:\n",
    "\n",
    "- Chapter 1 - Getting Started with Variables and Values\n",
    "- Chapter 2 - Basic Data Types (Integers and Floats)\n",
    "- Chapter 3 - Strings\n",
    "- Chapter 4 - Boolean Expressions and Conditions\n",
    "\n",
    "In this assignment, you will be asked to show what you have learned from the topics above!"
   ]
  },
  {
   "cell_type": "markdown",
   "metadata": {},
   "source": [
    "## Exercise 1: Calculation\n"
   ]
  },
  {
   "cell_type": "markdown",
   "metadata": {},
   "source": [
    "#### 1a. Average \n",
    "Define three variables `var1`, `var2` and `var3`. Calculate the average of these variables and assign it to the variable `average`. Print the outcome of your program as follows (use casting or an f-string):\n",
    "\n",
    "`The average of [...], [...] and [...] is: [...]`"
   ]
  },
  {
   "cell_type": "code",
   "execution_count": 7,
   "metadata": {},
   "outputs": [
    {
     "name": "stdout",
     "output_type": "stream",
     "text": [
      "The average of 5, 6 and 9 is 6.666666666666667\n"
     ]
    }
   ],
   "source": [
    "var1 = 5\n",
    "var2 = 6\n",
    "var3 = 9\n",
    "\n",
    "average = (var1 + var2 + var3) / 3\n",
    "\n",
    "print(f'The average of {var1}, {var2} and {var3} is {average}')"
   ]
  },
  {
   "cell_type": "markdown",
   "metadata": {},
   "source": [
    "#### 1b. Book prices\n",
    "Suppose the cover price of a book is 24.95 EUR, but bookstores get a 40 percent discount. Shipping costs 3 EUR for the first copy and 75 cents for each additional copy. Write a program that can calculate the total costs for any number of copies for both bookstores and other customers. Use variables with clear names for your calculations and print the result using a full sentence."
   ]
  },
  {
   "cell_type": "code",
   "execution_count": 23,
   "metadata": {},
   "outputs": [
    {
     "name": "stdout",
     "output_type": "stream",
     "text": [
      "how many books would you like to order?1\n",
      "Are you a bookstore or customer? bookstore\n",
      "please enter the amount in whole numbers\n"
     ]
    },
    {
     "ename": "UnboundLocalError",
     "evalue": "local variable 'price' referenced before assignment",
     "output_type": "error",
     "traceback": [
      "\u001b[0;31m---------------------------------------------------------------------------\u001b[0m",
      "\u001b[0;31mUnboundLocalError\u001b[0m                         Traceback (most recent call last)",
      "\u001b[0;32m<ipython-input-23-ac66884c4e4a>\u001b[0m in \u001b[0;36m<module>\u001b[0;34m\u001b[0m\n\u001b[1;32m     34\u001b[0m \u001b[0;34m\u001b[0m\u001b[0m\n\u001b[1;32m     35\u001b[0m \u001b[0;34m\u001b[0m\u001b[0m\n\u001b[0;32m---> 36\u001b[0;31m \u001b[0mtotalcost\u001b[0m\u001b[0;34m(\u001b[0m\u001b[0;34m)\u001b[0m\u001b[0;34m\u001b[0m\u001b[0;34m\u001b[0m\u001b[0m\n\u001b[0m",
      "\u001b[0;32m<ipython-input-23-ac66884c4e4a>\u001b[0m in \u001b[0;36mtotalcost\u001b[0;34m()\u001b[0m\n\u001b[1;32m     22\u001b[0m \u001b[0;34m\u001b[0m\u001b[0m\n\u001b[1;32m     23\u001b[0m             \u001b[0;32mif\u001b[0m \u001b[0mcustomer_type\u001b[0m \u001b[0;34m==\u001b[0m \u001b[0;34m'bookstore'\u001b[0m\u001b[0;34m:\u001b[0m\u001b[0;34m\u001b[0m\u001b[0;34m\u001b[0m\u001b[0m\n\u001b[0;32m---> 24\u001b[0;31m                 \u001b[0mprint\u001b[0m\u001b[0;34m(\u001b[0m\u001b[0;34mf'Your order has a price of {price*discount} EUR with shipping costs of {shipping} EUR, which is {(price*discount)+shipping} EUR total'\u001b[0m\u001b[0;34m)\u001b[0m\u001b[0;34m\u001b[0m\u001b[0;34m\u001b[0m\u001b[0m\n\u001b[0m\u001b[1;32m     25\u001b[0m \u001b[0;34m\u001b[0m\u001b[0m\n\u001b[1;32m     26\u001b[0m             \u001b[0;32melse\u001b[0m\u001b[0;34m:\u001b[0m\u001b[0;34m\u001b[0m\u001b[0;34m\u001b[0m\u001b[0m\n",
      "\u001b[0;31mUnboundLocalError\u001b[0m: local variable 'price' referenced before assignment"
     ]
    }
   ],
   "source": [
    "def totalcost ():\n",
    "    cover_price = 24.95\n",
    "    discount = 0.40\n",
    "    shipping_cost = 0.75\n",
    "    first_copy = 3\n",
    "    amount = input('how many books would you like to order?')\n",
    "    \n",
    "    if amount.isnumeric():\n",
    "        \n",
    "        customer_type = input('Are you a bookstore or customer? ')\n",
    "        \n",
    "        if customer_type.isalpha() and customer_type == 'bookstore' or customer_type == 'customer':\n",
    "        \n",
    "            if int(amount) > 1:\n",
    "                price = cover_price*amount\n",
    "                shipping = (((amount)-1)*0.75) + 3\n",
    "            elif amount == 1:\n",
    "                price = cover_price + first_copy\n",
    "                shipping = 3\n",
    "            else:\n",
    "                print('please enter the amount in whole numbers')\n",
    "\n",
    "            if customer_type == 'bookstore':\n",
    "                print(f'Your order has a price of {price*discount} EUR with shipping costs of {shipping} EUR, which is {(price*discount)+shipping} EUR total')\n",
    "\n",
    "            else:\n",
    "                print(f'Your order has a price of {price} EUR with shipping costs of {shipping} EUR')\n",
    "    \n",
    "        else:\n",
    "            return totalcost()\n",
    "    else:\n",
    "        return totalcost()\n",
    "        \n",
    "    \n",
    "    \n",
    "totalcost()"
   ]
  },
  {
   "cell_type": "code",
   "execution_count": null,
   "metadata": {},
   "outputs": [],
   "source": []
  },
  {
   "cell_type": "markdown",
   "metadata": {},
   "source": [
    "#### 1c. The modulus operator \n",
    "\n",
    "There is one operator (like the ones for multiplication and subtraction) that we did not discuss yet, namely the modulus operator %. Could you figure by yourself what it does when you place it between two numbers (e.g. 113 % 9)? (PS: It's OK to get help online...) You don't need this operator all that often, but when you do, it comes in really handy!"
   ]
  },
  {
   "cell_type": "code",
   "execution_count": null,
   "metadata": {
    "collapsed": true
   },
   "outputs": [],
   "source": [
    "# try out the modulus operator!"
   ]
  },
  {
   "cell_type": "markdown",
   "metadata": {},
   "source": [
    "Can you use the modulus operator you just learned about to solve the following task? Write a code block that classifies a given amount of money into smaller monetary units. Set the amount variable to 11.56. You code should output a report listing the monetary equivalent in dollars, quarters, dimes, nickels, and pennies. Your program should report the maximum number of dollars, then the number of quarters, dimes, nickels, and pennies, in this order, to result in the minimum number of coins. Here are the steps in developing the program:\n",
    "\n",
    "1. Convert the amount (11.56) into cents (1156).\n",
    "2. First get the amount of cents that you would get after subtracting the maximum amount of dollars (100 cents) using the modulus operator (56 cents).\n",
    "3. Then subtract the remainder (56 cents) from the total amount of cents (1156 cents) and divide this by 100 to find the number of dollars.\n",
    "4. Use the modulus operator again to find out the remainder after subtracting the maximum amount of quarters (6 cents).\n",
    "5. Subtract this remainder (6 cents) from the previous remainder (56 cents) and divide this by 25 to find out the number of quarters.\n",
    "6. Follow the same steps for the dimes, nickels and pennies.\n",
    "7. Display the result for your cashier! (the amount of dollars, quarters, dimes, nickels and pennies that (s)he would have to give back)`"
   ]
  },
  {
   "cell_type": "code",
   "execution_count": null,
   "metadata": {
    "collapsed": true
   },
   "outputs": [],
   "source": [
    "# cashier code"
   ]
  },
  {
   "cell_type": "markdown",
   "metadata": {},
   "source": [
    "## Exercise 2: Printing and user input\n"
   ]
  },
  {
   "cell_type": "markdown",
   "metadata": {},
   "source": [
    "#### 2a. Difference between \",\" and \"+\"\n",
    "\n",
    "What is the difference between using **+** and **,** in a print statement? Illustrate by using both in each of the following:\n",
    "\n",
    "* calling the `print()` fuction with multiple strings\n",
    "* printing combinations of strings and integers\n",
    "* concatenating multiple strings and assign to one single variable\n",
    "* concatenating strings and integers and assign to one single variable"
   ]
  },
  {
   "cell_type": "code",
   "execution_count": null,
   "metadata": {
    "collapsed": true
   },
   "outputs": [],
   "source": []
  },
  {
   "cell_type": "code",
   "execution_count": null,
   "metadata": {
    "collapsed": true
   },
   "outputs": [],
   "source": []
  },
  {
   "cell_type": "code",
   "execution_count": null,
   "metadata": {
    "collapsed": true
   },
   "outputs": [],
   "source": []
  },
  {
   "cell_type": "code",
   "execution_count": null,
   "metadata": {
    "collapsed": true
   },
   "outputs": [],
   "source": []
  },
  {
   "cell_type": "markdown",
   "metadata": {
    "collapsed": true
   },
   "source": [
    "####  2b. Small Talk\n",
    "Write a program to have a little conversation with someone. First ask them for their name and their age, and then say something about your own age compared to theirs. Try to generate the following conversation:\n",
    "\n",
    "> `Hello there! What is your name?`\n",
    "\n",
    "> -- Emily.\n",
    "\n",
    "> `Nice to meet you, Emily. How old are you?`\n",
    "\n",
    "> -- 23\n",
    "\n",
    "> `I'm 25 years old, so I'm 2 years older than you.`\n",
    "\n",
    "Also account for situations where the other person is older or the same age. You will need to use `if`-statements!"
   ]
  },
  {
   "cell_type": "code",
   "execution_count": null,
   "metadata": {
    "collapsed": true
   },
   "outputs": [],
   "source": [
    "name = input(\"Hello there! What is your name? \")\n",
    "# finish this code"
   ]
  },
  {
   "cell_type": "markdown",
   "metadata": {},
   "source": [
    "## Exercise 3: String Art"
   ]
  },
  {
   "cell_type": "markdown",
   "metadata": {},
   "source": [
    "#### 3a. Drawing figures\n",
    "We start with some repetition of the theory about strings:"
   ]
  },
  {
   "cell_type": "markdown",
   "metadata": {},
   "source": [
    "| Topic | Explanation |\n",
    "|-----------|--------|\n",
    "| `quotes` |\tA string is delimited by single quotes ('...') or double quotes (\"...\") |\n",
    "| `special characters` |\tCertain special characters can be used, such as \"\\n\" (for newline) and \"\\t\" (for a tab) \t|  \t \n",
    "| `printing special characters` |\tTo print the special characters, they must be preceded by a backslash (\\\\)\t |\n",
    "| `continue on next line` |\tA backslash (\\\\) at the end of a line is used to continue a string on the next line\t  \t |\n",
    "| `multi-line strings` |\tA multi-line print statement should be enclosed by three double or three single quotes (\"\"\"...\"\"\" of '''...''')\t | "
   ]
  },
  {
   "cell_type": "markdown",
   "metadata": {},
   "source": [
    "Please run the code snippet below and observe what happens:"
   ]
  },
  {
   "cell_type": "code",
   "execution_count": null,
   "metadata": {
    "collapsed": true
   },
   "outputs": [],
   "source": [
    "print('hello\\n')\n",
    "print('To print a newline use \\\\n')\n",
    "print('She said: \\'hello\\'')\n",
    "print('\\tThis is indented')\n",
    "print('This is a very, very, very, very, very, very \\\n",
    "long print statement')\n",
    "print('''\n",
    "This is a multi-line print statement\n",
    "First line\n",
    "Second line\n",
    "''')"
   ]
  },
  {
   "cell_type": "markdown",
   "metadata": {},
   "source": [
    "Now write a Python script that prints the following figure using **only one line of code**! (so don't use triple quotes)\n",
    "\n",
    "        | | |\n",
    "         @ @\n",
    "          *\n",
    "        |\"\"\"|\n"
   ]
  },
  {
   "cell_type": "code",
   "execution_count": null,
   "metadata": {
    "collapsed": true
   },
   "outputs": [],
   "source": [
    "# your code here"
   ]
  },
  {
   "cell_type": "markdown",
   "metadata": {},
   "source": [
    "#### 3b. Colors\n",
    "We start again with some repetition of the theory:"
   ]
  },
  {
   "cell_type": "markdown",
   "metadata": {},
   "source": [
    "| Topic | Explanation |\n",
    "|-----------|--------|\n",
    "| a = b + c\t| if b and c are strings: concatenate b and c to form a new string a| \n",
    "| a = b * c\t| if b is an integer and c is a string: c is repeated b times to form a new string a |\n",
    "| a[0] |\t the first character of string a  |\n",
    "| len(a) |\t the number of characters in string a |\n",
    "| min(a) |\t the smallest element in string a (alphabetically first) |\n",
    "| max(a) |\t the largest element in string a (alphabetically last) |"
   ]
  },
  {
   "cell_type": "markdown",
   "metadata": {},
   "source": [
    "Please run the code snippet below and observe what happens:"
   ]
  },
  {
   "cell_type": "code",
   "execution_count": null,
   "metadata": {
    "collapsed": true
   },
   "outputs": [],
   "source": [
    "b = 'the'\n",
    "c = 'cat'\n",
    "d = ' is on the mat'\n",
    "a = b + ' ' + c + d\n",
    "print(a)\n",
    "a = b * 5\n",
    "print(a)\n",
    "print('The first character of', c, 'is' , c[0])\n",
    "print('The word c has,', len(c) ,'characters')"
   ]
  },
  {
   "cell_type": "markdown",
   "metadata": {},
   "source": [
    "Now write a program that asks users for their favorite color. Create the following output (assuming \"red\" is the chosen color). Use \"+\" and \"\\*\".\n",
    "It should work with any color name though.\n",
    "\n",
    "```xml\n",
    "red red red red red red red red red red  \n",
    "red                                 red\n",
    "red                                 red\n",
    "red red red red red red red red red red\n",
    "```"
   ]
  },
  {
   "cell_type": "code",
   "execution_count": null,
   "metadata": {
    "collapsed": true
   },
   "outputs": [],
   "source": [
    "color = input('what is your favorite color? ')\n",
    "\n",
    "print(color)\n",
    "print(color)\n",
    "print(color)\n",
    "print(color)"
   ]
  },
  {
   "cell_type": "markdown",
   "metadata": {},
   "source": [
    "## Exercise 4: String methods \n",
    "\n",
    "Remember that you can see all methods of the class `str` by using `dir()`. You can ignore all methods that start with one or two underscores. "
   ]
  },
  {
   "cell_type": "code",
   "execution_count": null,
   "metadata": {
    "collapsed": true
   },
   "outputs": [],
   "source": [
    "dir(str)"
   ]
  },
  {
   "cell_type": "markdown",
   "metadata": {},
   "source": [
    "To see the explanation for a method of this class,  you can use `help(str.method)`. For example:"
   ]
  },
  {
   "cell_type": "code",
   "execution_count": null,
   "metadata": {
    "collapsed": true
   },
   "outputs": [],
   "source": [
    "help(str.upper)"
   ]
  },
  {
   "cell_type": "markdown",
   "metadata": {
    "collapsed": true
   },
   "source": [
    "#### 4a. Counting vowels\n",
    "Count how many of each vowel (a,e,i,o,u) there are in the text string in the next cell, and use the appropriate string method to print the count for each vowel with a single formatted string. Remember that vowels can be both lower and uppercase."
   ]
  },
  {
   "cell_type": "code",
   "execution_count": null,
   "metadata": {
    "collapsed": true
   },
   "outputs": [],
   "source": [
    "text = \"\"\"But I must explain to you how all this mistaken idea of denouncing pleasure and praising pain was born \n",
    "and I will give you a complete account of the system, and expound the actual teachings of the great explorer of the \n",
    "truth, the master-builder of human happiness. No one rejects, dislikes, or avoids pleasure itself, because it is \n",
    "pleasure, but because those who do not know how to pursue pleasure rationally encounter consequences that are \n",
    "extremely painful. Nor again is there anyone who loves or pursues or desires to obtain pain of itself, because it is \n",
    "pain, but because occasionally circumstances occur in which toil and pain can procure him some great pleasure. \n",
    "To take a trivial example, which of us ever undertakes laborious physical exercise, except to obtain some advantage \n",
    "from it? But who has any right to find fault with a man who chooses to enjoy a pleasure that has no annoying \n",
    "consequences, or one who avoids a pain that produces no resultant pleasure? On the other hand, we denounce with \n",
    "righteous indignation and dislike men who are so beguiled and demoralized by the charms of pleasure of the moment, \n",
    "so blinded by desire, that they cannot foresee the pain and trouble that are bound to ensue; and equal blame belongs \n",
    "to those who fail in their duty through weakness of will, which is the same as saying through shrinking from toil \n",
    "and pain.\"\"\"\n",
    "\n",
    "# your code here"
   ]
  },
  {
   "cell_type": "markdown",
   "metadata": {},
   "source": [
    "#### 4b. Printing the lexicon\n",
    "Have a good look at the internal representation of the string below. Use a combination of string methods (you will need at least 3 different ones and some will have to be used multiple times) in the correct order to remove punctuation and redundant whitespaces, and print each word in lowercase characters on a new line. The result should look like:\n",
    "\n",
    "`the  \n",
    "quick  \n",
    "brown  \n",
    "fox  \n",
    "jumps  \n",
    "etc.`"
   ]
  },
  {
   "cell_type": "code",
   "execution_count": null,
   "metadata": {
    "collapsed": true
   },
   "outputs": [],
   "source": [
    "text = \"\"\"           The quick, brown fox jumps over a lazy dog.\\tDJs flock by when MTV ax quiz prog. \n",
    "Junk MTV quiz graced by fox whelps.\\tBawds jog, flick quartz, vex nymphs. \n",
    "Waltz, bad nymph, for quick jigs vex!\\tFox nymphs grab quick-jived waltz. \n",
    "Brick quiz whangs jumpy veldt fox.       \"\"\"\n",
    "\n",
    "print(text)\n",
    "print()\n",
    "print(repr(text))"
   ]
  },
  {
   "cell_type": "code",
   "execution_count": null,
   "metadata": {
    "collapsed": true
   },
   "outputs": [],
   "source": [
    "text = # your code here\n",
    "\n",
    "print(text)"
   ]
  },
  {
   "cell_type": "markdown",
   "metadata": {
    "collapsed": true
   },
   "source": [
    "#### 4c. Passwords\n",
    "\n",
    "Write a program that asks a user for a password and checks some simple requirements of a password. If necessary, print out the following warnings (use if-statements):\n",
    "\n",
    "1. Your password should contain at least 6 characters.\n",
    "2. Your password should contain no more than 12 characters.\n",
    "3. Your password only contains alphabetic characters! Please also use digits and/or special characters.\n",
    "4. Your password only contains digits! Please also use alphabetic and/or special characters.\n",
    "5. Your password should contain at least one special character.\n",
    "6. Your password contains only lowercase letters! Please also use uppercase letters.\n",
    "7. Your password contains only uppercase letters! Please also use lowercase letters."
   ]
  },
  {
   "cell_type": "code",
   "execution_count": null,
   "metadata": {
    "collapsed": true
   },
   "outputs": [],
   "source": [
    "# your code here"
   ]
  },
  {
   "cell_type": "markdown",
   "metadata": {},
   "source": [
    "## Exercise 5: Boolean Logic and Conditions"
   ]
  },
  {
   "cell_type": "markdown",
   "metadata": {},
   "source": [
    "#### 5a. Speeding\n",
    "You are driving a little too fast, and a police officer stops you. Write code to compute the result, encoded as an int value: 0=no ticket, 1=small ticket, 2=big ticket. If speed is 60 or less, the result is 0. If speed is between 61 and 80 inclusive, the result is 1. If speed is 81 or more, the result is 2. Unless it is your birthday -- on that day, your speed can be 5 higher in all cases."
   ]
  },
  {
   "cell_type": "code",
   "execution_count": null,
   "metadata": {
    "collapsed": true
   },
   "outputs": [],
   "source": [
    "# your code here"
   ]
  },
  {
   "cell_type": "markdown",
   "metadata": {},
   "source": [
    "#### 5b. Alarm clock\n",
    "\n",
    "Given a day of the week encoded as 0=Sun, 1=Mon, 2=Tue, ...6=Sat, and a boolean indicating if we are on vacation, return a string of the form \"7:00\" indicating when the alarm clock should ring. Weekdays, the alarm should be \"7:00\" and on the weekend it should be \"10:00\". Unless we are on vacation -- then on weekdays it should be \"10:00\" and weekends it should be \"off\"."
   ]
  },
  {
   "cell_type": "code",
   "execution_count": null,
   "metadata": {
    "collapsed": true
   },
   "outputs": [],
   "source": [
    "# your code here"
   ]
  },
  {
   "cell_type": "markdown",
   "metadata": {},
   "source": [
    "#### 5c. Parcel delivery\n",
    "The required postage for an  international parcel delivery service is calculated based on item weight and country of destination:\n",
    "\n",
    "\n",
    "| Tariff zone | 0 - 2 kg | 2 - 5 kg | 5 - 10 kg | 10 - 20 kg | 20 - 30 kg |\n",
    "|-------------|----------|----------|-----------|------------|------------|\n",
    "|EUR 1 | € 13.00 | € 19.50 | € 25.00 | € 34.00 | € 45.00 | \n",
    "|EUR 2 | € 18.50 | € 25.00 | € 31.00 | € 40.00 | € 55.00 | \n",
    "|World | € 24.30 | € 34.30 | € 58.30 | € 105.30 | - | \n",
    "\n",
    "Ask a user for the `weight` and `zone`. Use (nested) `if`-statements to find the required postage based on these variables. Assign the result to a variable `postage` and print the result using a full sentence:\n",
    "\n",
    "`The price of sending a [...] kg parcel to the [...] zone is € [...].`"
   ]
  },
  {
   "cell_type": "code",
   "execution_count": null,
   "metadata": {
    "collapsed": true
   },
   "outputs": [],
   "source": [
    "# your code here"
   ]
  }
 ],
 "metadata": {
  "anaconda-cloud": {},
  "kernelspec": {
   "display_name": "Python 3",
   "language": "python",
   "name": "python3"
  },
  "language_info": {
   "codemirror_mode": {
    "name": "ipython",
    "version": 3
   },
   "file_extension": ".py",
   "mimetype": "text/x-python",
   "name": "python",
   "nbconvert_exporter": "python",
   "pygments_lexer": "ipython3",
   "version": "3.7.1"
  }
 },
 "nbformat": 4,
 "nbformat_minor": 1
}
