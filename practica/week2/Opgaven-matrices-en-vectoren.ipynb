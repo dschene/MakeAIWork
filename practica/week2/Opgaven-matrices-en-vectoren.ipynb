{
 "cells": [
  {
   "cell_type": "markdown",
   "id": "2ea724be",
   "metadata": {},
   "source": [
    "# Matrices en vectoren"
   ]
  },
  {
   "cell_type": "markdown",
   "id": "18595eca",
   "metadata": {},
   "source": [
    "Er zijn meerdere manieren om een matrix te representeren.\n",
    "\n",
    "Hier kiezen we voor het volgende datamodel:\n",
    "\n",
    "`matrix_2D :: {rows: int, cols: int, data: []}`\n",
    "\n",
    "Implementeer onderstaande opdrachten in Python."
   ]
  },
  {
   "cell_type": "markdown",
   "id": "42182308",
   "metadata": {},
   "source": [
    "## Vectoren"
   ]
  },
  {
   "cell_type": "markdown",
   "id": "db43ccb1",
   "metadata": {},
   "source": [
    "### 1. Een vector als rij*"
   ]
  },
  {
   "cell_type": "markdown",
   "id": "e9ac731a",
   "metadata": {},
   "source": [
    "Representeer de onderstaande vector in code:\n",
    "\n",
    "$$\n",
    "  \\begin{pmatrix}\n",
    "    1 & 2 & 3\n",
    "  \\end{pmatrix}\n",
    "$$"
   ]
  },
  {
   "cell_type": "code",
   "execution_count": 9,
   "id": "72c55633",
   "metadata": {},
   "outputs": [
    {
     "name": "stdout",
     "output_type": "stream",
     "text": [
      "This vector has the dimensions 1 rows by 3 columns\n",
      "number of elements is 3\n"
     ]
    }
   ],
   "source": [
    "# How many rows and colums does this vector have?\n",
    "\n",
    "    #This vector has 1 row and 3 colums\n",
    "\n",
    "# Use the definition at the top to implement this vector:\n",
    "\n",
    "vec_1 = {'rows': 1, 'cols': 3, 'data': [1,2,3]}\n",
    "\n",
    "# Can you print its dimensions? (rows, cols)\n",
    "\n",
    "print(f\"This vector has the dimensions {vec_1['rows']} rows by {vec_1['cols']} columns\")\n",
    "\n",
    "# Can you print the number of elements?\n",
    "\n",
    "print(f\"Number of elements is {len(vec_1['data'])}\")"
   ]
  },
  {
   "cell_type": "markdown",
   "id": "a1b219ad",
   "metadata": {},
   "source": [
    "### 2. Een vector als kolom*"
   ]
  },
  {
   "cell_type": "markdown",
   "id": "ac4f647f",
   "metadata": {},
   "source": [
    "# Representeer de onderstaande vector in code:\n",
    "\n",
    "$$\n",
    "  \\begin{pmatrix}\n",
    "    1 \\\\\n",
    "    2 \\\\\n",
    "    3\n",
    "  \\end{pmatrix}\n",
    "$$"
   ]
  },
  {
   "cell_type": "code",
   "execution_count": 14,
   "id": "f4f6bfc9",
   "metadata": {},
   "outputs": [
    {
     "name": "stdout",
     "output_type": "stream",
     "text": [
      "This vector has the dimensions 3 rows by 1 columns\n",
      "Number of elements is 3\n"
     ]
    }
   ],
   "source": [
    "vec_2 = {'rows': 3, 'cols': 1, 'data': [1,2,3]}\n",
    "\n",
    "\n",
    "# How many rows and colums does this vector have?\n",
    "\n",
    "    # 3 rows and 1 column\n",
    "\n",
    "# Use the definition at the top to implement this vector:\n",
    "\n",
    "vec_2 = {'rows': 3, 'cols': 1, 'data': [1,2,3]}\n",
    "\n",
    "# Can you print its dimensions? (rows, cols)\n",
    "\n",
    "print(f\"This vector has the dimensions {vec_2['rows']} rows by {vec_2['cols']} columns\")\n",
    "\n",
    "# Can you print the number of elements?\n",
    "\n",
    "print(f\"Number of elements is {len(vec_1['data'])}\")"
   ]
  },
  {
   "cell_type": "markdown",
   "id": "8de02084",
   "metadata": {},
   "source": [
    "### 3. Vectoren optellen**"
   ]
  },
  {
   "cell_type": "markdown",
   "id": "c2edbb39",
   "metadata": {},
   "source": [
    "Tel de onderstaande vectoren bij elkaar op:\n",
    "\n",
    "$$\n",
    "  \\begin{pmatrix}\n",
    "    1 \\\\\n",
    "    2 \\\\\n",
    "    3\n",
    "  \\end{pmatrix}\n",
    "  +\n",
    "    \\begin{pmatrix}\n",
    "    9 \\\\\n",
    "    8 \\\\\n",
    "    7\n",
    "  \\end{pmatrix}\n",
    "  =\n",
    "  ...\n",
    "$$"
   ]
  },
  {
   "cell_type": "code",
   "execution_count": 23,
   "id": "9fd6bc2a",
   "metadata": {},
   "outputs": [
    {
     "name": "stdout",
     "output_type": "stream",
     "text": [
      "{'rows': 3, 'cols': 1, 'data': [10, 10, 10]}\n"
     ]
    }
   ],
   "source": [
    "# Implement both vectors:\n",
    "\n",
    "vec_3 = {'rows': 3, 'cols': 1, 'data': [1,2,3]}\n",
    "vec_4 = {'rows': 3, 'cols': 1, 'data': [9,8,7]}\n",
    "\n",
    "# Can we add them? Check if dimensions are the same:\n",
    "\n",
    "    # Adding these vectors is possible as their dimensions are the same\n",
    "\n",
    "# How do you add these vectors by hand?\n",
    "\n",
    "        #we would do the following: \n",
    "            \n",
    "        # 1+9\n",
    "        # 2+8\n",
    "        # 3+7\n",
    "        \n",
    "# Now add the vectors in code:\n",
    "\n",
    "vec_5 = {}\n",
    "\n",
    "# What I've done here is:\n",
    "    #1. create the new (empty) vector\n",
    "    #2. define 3 keys for this vector, namely 'rows', 'cols' and 'data'\n",
    "    #3. the dimensions of the output vector will be the same as those of the input vectors, so these can be equated\n",
    "    #4. lastly, the value of the key 'data' has to be the sum of the elements in the two input vector lists\n",
    "    #   we can do this by zipping the two lists (zip(list_1, list_2)), which creates tuples of each pair, which we'll sum \n",
    "    #   and add to the list\n",
    "    \n",
    "vec_5['rows'], vec_5['cols'], vec_5['data'] = vec_4['rows'], vec_4['cols'], [sum(i) for i in zip(vec_3['data'], vec_4['data'])]\n",
    "\n",
    "print(vec_5)"
   ]
  },
  {
   "cell_type": "markdown",
   "id": "10e3be49",
   "metadata": {},
   "source": [
    "Tel de onderstaande vectoren bij elkaar op:\n",
    "\n",
    "$$\n",
    "  \\begin{pmatrix}\n",
    "    1 & 2 & 3\n",
    "  \\end{pmatrix}\n",
    "  +\n",
    "  \\begin{pmatrix}\n",
    "    9 & 8 & 7\n",
    "  \\end{pmatrix}\n",
    "  =\n",
    "  ...\n",
    "$$"
   ]
  },
  {
   "cell_type": "code",
   "execution_count": 32,
   "id": "3319db0c",
   "metadata": {},
   "outputs": [
    {
     "name": "stdout",
     "output_type": "stream",
     "text": [
      "{'rows': 1, 'cols': 3}\n",
      "{'rows': 1, 'cols': 3, 'data': [10, 10, 10]}\n"
     ]
    }
   ],
   "source": [
    "# Implement both vectors:\n",
    "\n",
    "vec_6 = {'rows': 1, 'cols': 3, 'data': [1,2,3]}\n",
    "vec_7 = {'rows': 1, 'cols': 3, 'data': [9,8,7]}\n",
    "\n",
    "# Can we add them? Check if dimensions are the same:\n",
    "\n",
    "vec_6['rows'] == vec_7['rows'] and vec_6['cols'] == vec_7['cols']\n",
    "\n",
    "#The above returs True - \n",
    "\n",
    "# How do you add these vectors by hand?\n",
    "\n",
    "    #(1+9) (2+8) (3+7)\n",
    "\n",
    "# Now add the vectors in code:\n",
    "\n",
    "#again we create an empty dict:\n",
    "vec_8 = {}\n",
    "\n",
    "#The dimensions are the same, as we've checked before, so we can copy those from one of the two input vectors:\n",
    "vec_8['rows'] = vec_7['rows']\n",
    "vec_8['cols'] = vec_7['cols']\n",
    "\n",
    "#Now we can check what the new vec looks like so far:\n",
    "print(vec_8)\n",
    "\n",
    "#the last step is, again, adding the two data lists:\n",
    "vec_8['data'] = [sum(i) for i in zip(vec_6['data'], vec_7['data'])]\n",
    "\n",
    "#and we print again to see the result\n",
    "print(vec_8)"
   ]
  },
  {
   "cell_type": "markdown",
   "id": "ecf7d53a",
   "metadata": {},
   "source": [
    "## Matrices"
   ]
  },
  {
   "cell_type": "markdown",
   "id": "aea58d0c",
   "metadata": {},
   "source": [
    "### 1. Een 3 x 3 matrix*"
   ]
  },
  {
   "cell_type": "markdown",
   "id": "8ecdf748",
   "metadata": {},
   "source": [
    "Representeer de onderstaande matrix in code:\n",
    "\n",
    "$$\n",
    "  \\begin{pmatrix}\n",
    "    1 & 2 & 3\\\\\n",
    "    4 & 5 & 6\\\\\n",
    "    7 & 8 & 9\\\\\n",
    "  \\end{pmatrix}\n",
    "$$"
   ]
  },
  {
   "cell_type": "code",
   "execution_count": 34,
   "id": "744a8d77",
   "metadata": {},
   "outputs": [
    {
     "name": "stdout",
     "output_type": "stream",
     "text": [
      "3 3\n",
      "9\n"
     ]
    }
   ],
   "source": [
    "# How many rows and colums does this matrix have?\n",
    "\n",
    "    # 3 rows and 3 columns\n",
    "\n",
    "# Use the definition at the top to implement this matrix:\n",
    "\n",
    "mat_1 = {'rows': 3, 'cols': 3, 'data': [1,2,3,4,5,6,7,8,9]}\n",
    "\n",
    "# Can you print its dimensions? (rows, cols)\n",
    "\n",
    "print(mat_1['rows'], mat_1['cols'])\n",
    "\n",
    "# Can you print the number of elements?\n",
    "\n",
    "print(len(mat_1['data']))"
   ]
  },
  {
   "cell_type": "markdown",
   "id": "78d195fb",
   "metadata": {},
   "source": [
    "### 2. Matrices optellen**"
   ]
  },
  {
   "cell_type": "markdown",
   "id": "1554b6d8",
   "metadata": {},
   "source": [
    "Tel de onderstaande matrices op:\n",
    "\n",
    "$$\n",
    "  \\begin{pmatrix}\n",
    "    1 & 2 & 3\\\\\n",
    "    4 & 5 & 6\\\\\n",
    "    7 & 8 & 9\\\\\n",
    "  \\end{pmatrix}\n",
    "  +\n",
    "    \\begin{pmatrix}\n",
    "    9 & 8 & 7\\\\\n",
    "    6 & 5 & 4\\\\\n",
    "    3 & 2 & 1\\\\\n",
    "  \\end{pmatrix}\n",
    "  =\n",
    "  ...\n",
    "$$"
   ]
  },
  {
   "cell_type": "code",
   "execution_count": 60,
   "id": "ac6bd48c",
   "metadata": {},
   "outputs": [
    {
     "name": "stdout",
     "output_type": "stream",
     "text": [
      "[1, 2, 3, 4, 5, 6, 7, 8, 9] [9, 8, 7, 6, 5, 4, 3, 2, 1]\n",
      "[10, 10, 10, 10, 10, 10, 10, 10, 10]\n",
      "[[10, 10, 10], [10, 10, 10], [10, 10, 10]]\n"
     ]
    }
   ],
   "source": [
    "# Implement both matrices:\n",
    "\n",
    "mat_2 = {'rows': 3, 'cols': 3, 'data': [1,2,3,4,5,6,7,8,9]}\n",
    "mat_3 = {'rows': 3, 'cols': 3, 'data': [9,8,7,6,5,4,3,2,1]}\n",
    "\n",
    "# Can we add them? Check if dimensions are the same:\n",
    "\n",
    "mat_2['rows'] == mat_2['rows'] and mat_2['cols'] == mat_3['cols']\n",
    "\n",
    "# How do you add these matrices by hand?\n",
    "\n",
    "    #\n",
    "\n",
    "# Now add the matrices in code:\n",
    "\n",
    "#essentially, we want to iterate through both vectors and add each corresponding item and put it in a new list, which\n",
    "#will be our 'data' for the new vector:\n",
    "\n",
    "#we can access both input vectors and put them in two variables so we don't have to access the dictionary values all the time\n",
    "\n",
    "data_1 = mat_2['data']\n",
    "data_2 = mat_3['data']\n",
    "\n",
    "#just checking whether these are indeed the vectors we want to add:\n",
    "print(data_1, data_2)\n",
    "\n",
    "#the next step is the iteration of both lists\n",
    "#we can create an empty list as our output vector:\n",
    "data_3 = []\n",
    "\n",
    "#now we loop through both lists, sum the values of the corresponding items, and add this to our empty list\n",
    "#we use the range() function to get an index\n",
    "\n",
    "for i in range(len(data_2)):\n",
    "    data_3.append(data_1[i] + data_2[i])\n",
    "\n",
    "#\n",
    "print(data_3)\n",
    "\n",
    "# In case you didn't: can you generalize this algorithm?\n",
    "\n",
    "\n",
    "#I've tried to do this with lists of lists, to get rid of the dictionary\n",
    "\n",
    "#We do have to implement the matrices as lists of lists though:\n",
    "\n",
    "l_1 = [[1,2,3],[4,5,6],[7,8,9]]\n",
    "l_2 = [[9,8,7],[6,5,4],[3,2,1]]\n",
    "\n",
    "def add_matrices(m1, m2):\n",
    "    #create an empty matrix of the desired size:\n",
    "    emp_m = [[] for l in m1]\n",
    "    \n",
    "    for index_l, lijst in enumerate(m1):\n",
    "    \n",
    "        for index_c, cijfer in enumerate(lijst):\n",
    "            emp_m[index_l].append(cijfer + m2[index_l][index_c])\n",
    "            \n",
    "\n",
    "    return emp_m\n",
    "    \n",
    "    \n",
    "print(add_matrices(l_1, l_2))"
   ]
  },
  {
   "cell_type": "code",
   "execution_count": 66,
   "id": "bacf6be2",
   "metadata": {},
   "outputs": [
    {
     "data": {
      "text/plain": [
       "[[26, 26, 26, 26, 26],\n",
       " [26, 26, 26, 26, 26],\n",
       " [26, 26, 26, 26, 26],\n",
       " [26, 26, 26, 26, 26],\n",
       " [26, 26, 26, 26, 26]]"
      ]
     },
     "execution_count": 66,
     "metadata": {},
     "output_type": "execute_result"
    }
   ],
   "source": [
    "#Lastly I tried to make this a one-liner, but in my opinion this is too long to be elegant\n",
    "def add_matrices_2(m1,m2):\n",
    "    return [[cijfer + m2[index_l][index_c] for index_c, cijfer in enumerate(lijst)] for index_l, lijst in enumerate(m1)]\n",
    "\n",
    "\n",
    "mat_x = [[1,2,3,4,5],[6,7,8,9,10],[11,12,13,14,15],[16,17,18,19,20],[21,22,23,24,25]]\n",
    "mat_y = [[25,24,23,22,21],[20,19,18,17,16],[15,14,13,12,11],[10,9,8,7,6],[5,4,3,2,1]]\n",
    "\n",
    "#we try the algorithm, it should equal a 5 by 5 matrix in which all values are 26\n",
    "\n",
    "add_matrices_2(mat_x, mat_y)"
   ]
  },
  {
   "cell_type": "markdown",
   "id": "7bff9837",
   "metadata": {},
   "source": [
    "### 3. Matrices vermenigvuldigen***"
   ]
  },
  {
   "cell_type": "markdown",
   "id": "4dba734d",
   "metadata": {},
   "source": [
    "Vermenigvuldig de onderstaande matrices:\n",
    "\n",
    "$$\n",
    "  \\begin{pmatrix}\n",
    "    1 & 2 & 3\\\\\n",
    "    4 & 5 & 6\n",
    "  \\end{pmatrix}\n",
    "  *\n",
    "    \\begin{pmatrix}\n",
    "    9 & 8\\\\\n",
    "    6 & 5\\\\\n",
    "    3 & 2\\\\\n",
    "  \\end{pmatrix}\n",
    "  =\n",
    "  ...\n",
    "$$"
   ]
  },
  {
   "cell_type": "code",
   "execution_count": 67,
   "id": "9895aaab",
   "metadata": {},
   "outputs": [
    {
     "data": {
      "text/plain": [
       "True"
      ]
     },
     "execution_count": 67,
     "metadata": {},
     "output_type": "execute_result"
    }
   ],
   "source": [
    "# Implement both matrices:\n",
    "\n",
    "mat_5 = {'rows': 2, 'cols': 3, 'data': [1,2,3,4,5,6]}\n",
    "mat_6 = {'rows': 3, 'cols': 2, 'data': [9,8,6,5,3,2]}\n",
    "\n",
    "# Can we multiply them? Check if dimensions satisfy the (M by N) * (N by K) = (M by K) rule:\n",
    "\n",
    "# We can check whether the amount of colums of the first matrix is equal to the amount of rows of the second:\n",
    "mat_5['cols'] == mat_6['rows']\n",
    "\n",
    "# How do you multiply these matrices by hand?\n",
    "\n",
    "# ...\n",
    "\n",
    "# Now multiply the matrices in code:\n",
    "\n",
    "# ...\n",
    "\n",
    "# In case you didn't: can you generalize this algorithm?\n",
    "\n",
    "# ..."
   ]
  },
  {
   "cell_type": "code",
   "execution_count": 8,
   "id": "f0be797a",
   "metadata": {},
   "outputs": [
    {
     "name": "stdout",
     "output_type": "stream",
     "text": [
      "0\n",
      "\t 0\n",
      "\t\t 0\n",
      "\t\t 1\n",
      "\t\t 2\n",
      "\t 1\n",
      "\t\t 0\n",
      "\t\t 1\n",
      "\t\t 2\n",
      "1\n",
      "\t 0\n",
      "\t\t 0\n",
      "\t\t 1\n",
      "\t\t 2\n",
      "\t 1\n",
      "\t\t 0\n",
      "\t\t 1\n",
      "\t\t 2\n"
     ]
    }
   ],
   "source": [
    "for rij in range(0, rijen_aantal_a, col_aantal_a):\n",
    "    for col in range(0,rijen_aantal_b, col)"
   ]
  },
  {
   "cell_type": "code",
   "execution_count": null,
   "id": "37f76199",
   "metadata": {},
   "outputs": [],
   "source": []
  }
 ],
 "metadata": {
  "kernelspec": {
   "display_name": "Python 3 (ipykernel)",
   "language": "python",
   "name": "python3"
  },
  "language_info": {
   "codemirror_mode": {
    "name": "ipython",
    "version": 3
   },
   "file_extension": ".py",
   "mimetype": "text/x-python",
   "name": "python",
   "nbconvert_exporter": "python",
   "pygments_lexer": "ipython3",
   "version": "3.10.9"
  }
 },
 "nbformat": 4,
 "nbformat_minor": 5
}
