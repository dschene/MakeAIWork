{
 "cells": [
  {
   "cell_type": "code",
   "execution_count": null,
   "id": "479ce799",
   "metadata": {},
   "outputs": [],
   "source": [
    "'''\n",
    "De os module zorgt ervoor dat je in python kunt communiceren met je operating system, zoals je dat ook zou doen in bash\n",
    "of de terminal.\n",
    "'''"
   ]
  },
  {
   "cell_type": "code",
   "execution_count": 1,
   "id": "8167c20c",
   "metadata": {},
   "outputs": [],
   "source": [
    "import os"
   ]
  },
  {
   "cell_type": "code",
   "execution_count": null,
   "id": "9f6bf7a1",
   "metadata": {},
   "outputs": [],
   "source": [
    "os.chdir('../week2')"
   ]
  },
  {
   "cell_type": "code",
   "execution_count": 2,
   "id": "8ae07090",
   "metadata": {},
   "outputs": [
    {
     "name": "stdout",
     "output_type": "stream",
     "text": [
      "/Users/danielschene/MakeAIWork/practica/week2\n"
     ]
    }
   ],
   "source": [
    "#we kunnen de huidige directory/map printen:\n",
    "huidige_map = os.getcwd() \n",
    "print(huidige_map)"
   ]
  },
  {
   "cell_type": "code",
   "execution_count": 3,
   "id": "1973155c",
   "metadata": {},
   "outputs": [],
   "source": [
    "#we kunnen een nieuwe map aanmaken\n",
    "os.mkdir('test_map')"
   ]
  },
  {
   "cell_type": "code",
   "execution_count": 6,
   "id": "fee142d7",
   "metadata": {},
   "outputs": [
    {
     "data": {
      "text/plain": [
       "['pull_file_test.txt',\n",
       " '.DS_Store',\n",
       " 'sets.ipynb',\n",
       " 'functions.ipynb',\n",
       " 'csv',\n",
       " 'dictionaries.ipynb',\n",
       " '.ipynb_checkpoints',\n",
       " 'os_module.ipynb']"
      ]
     },
     "execution_count": 6,
     "metadata": {},
     "output_type": "execute_result"
    }
   ],
   "source": [
    "#we kunnen een lijst opghalen met alle bestanden in de opgegeven map. De 'default' is de map waarin je .py file ook staat\n",
    "os.listdir()"
   ]
  },
  {
   "cell_type": "code",
   "execution_count": 5,
   "id": "05bceb1f",
   "metadata": {},
   "outputs": [],
   "source": [
    "#ook kunnen we de map weer verwijderen\n",
    "os.rmdir('test_map')"
   ]
  },
  {
   "cell_type": "code",
   "execution_count": null,
   "id": "bc8ea700",
   "metadata": {},
   "outputs": [],
   "source": [
    "'''\n",
    "Deze commands zijn eigenlijk hetzelfde als de bash/terminal commands, alleen dan net even anders\n",
    "'''"
   ]
  },
  {
   "cell_type": "code",
   "execution_count": 13,
   "id": "a9df7e11",
   "metadata": {},
   "outputs": [
    {
     "data": {
      "text/plain": [
       "['Uitwerkingen-beslissen-en-herhalen.ipynb',\n",
       " '.DS_Store',\n",
       " 'Opgaven-beslissen-en-herhalen_2.ipynb',\n",
       " 'numbers.ipynb',\n",
       " 'advanced string.ipynb',\n",
       " 'lists.ipynb',\n",
       " 'tuples.ipynb',\n",
       " 'advanced numbers.ipynb',\n",
       " 'test_map',\n",
       " 'booleans.ipynb',\n",
       " '.ipynb_checkpoints',\n",
       " 'strings.ipynb',\n",
       " 'patronen.py']"
      ]
     },
     "execution_count": 13,
     "metadata": {},
     "output_type": "execute_result"
    }
   ],
   "source": [
    "#we kunnen onze huidige directory veranderen met os.chdir()\n",
    "os.chdir(\"..\")\n",
    "os.listdir('week1')\n",
    "#Als we vervolgens vragen in welke directory we zitten, zien we dat we nu naar de \"home\" folder zijn verschoven"
   ]
  },
  {
   "cell_type": "code",
   "execution_count": 14,
   "id": "52590413",
   "metadata": {},
   "outputs": [
    {
     "data": {
      "text/plain": [
       "'/Users/danielschene/miniconda3/envs/miw/bin:/Users/danielschene/miniconda3/condabin:/opt/homebrew/bin:/opt/homebrew/sbin:/Library/Frameworks/Python.framework/Versions/3.11/bin:/usr/local/bin:/System/Cryptexes/App/usr/bin:/usr/bin:/bin:/usr/sbin:/sbin'"
      ]
     },
     "execution_count": 14,
     "metadata": {},
     "output_type": "execute_result"
    }
   ],
   "source": [
    "os.getenv('PATH')"
   ]
  },
  {
   "cell_type": "code",
   "execution_count": 15,
   "id": "4eb813cc",
   "metadata": {},
   "outputs": [
    {
     "name": "stdout",
     "output_type": "stream",
     "text": [
      "False\n"
     ]
    }
   ],
   "source": [
    "#Wat ook nog van pas kan komen zijn de volgende methods:\n",
    "\n",
    "#We kunnen in de huidige directory checken of een specifiek bestand of specifieke map al aanwezig is. \n",
    "#We krijgen een boolean terug\n",
    "\n",
    "print(os.path.isfile('hoi.txt'))\n"
   ]
  },
  {
   "cell_type": "code",
   "execution_count": 19,
   "id": "c363c28f",
   "metadata": {},
   "outputs": [
    {
     "name": "stdout",
     "output_type": "stream",
     "text": [
      "True\n"
     ]
    }
   ],
   "source": [
    "#We kunnen ook kijken of een gespecificeerde map aanwezig is:\n",
    "print(os.path.isdir('/Users/danielschene/MakeAIWork/practica'))"
   ]
  },
  {
   "cell_type": "code",
   "execution_count": 20,
   "id": "206065ca",
   "metadata": {},
   "outputs": [
    {
     "name": "stdout",
     "output_type": "stream",
     "text": [
      "\u001b[34mgeo\u001b[m\u001b[m\n",
      "\u001b[34mjson\u001b[m\u001b[m\n",
      "\u001b[34mpics\u001b[m\u001b[m\n",
      "\u001b[34mpip\u001b[m\u001b[m\n",
      "\u001b[34mweek1\u001b[m\u001b[m\n",
      "\u001b[34mweek2\u001b[m\u001b[m\n"
     ]
    },
    {
     "data": {
      "text/plain": [
       "0"
      ]
     },
     "execution_count": 20,
     "metadata": {},
     "output_type": "execute_result"
    }
   ],
   "source": [
    "os.system('ls')"
   ]
  },
  {
   "cell_type": "code",
   "execution_count": null,
   "id": "0c890f3c",
   "metadata": {},
   "outputs": [],
   "source": []
  }
 ],
 "metadata": {
  "kernelspec": {
   "display_name": "Python 3 (ipykernel)",
   "language": "python",
   "name": "python3"
  },
  "language_info": {
   "codemirror_mode": {
    "name": "ipython",
    "version": 3
   },
   "file_extension": ".py",
   "mimetype": "text/x-python",
   "name": "python",
   "nbconvert_exporter": "python",
   "pygments_lexer": "ipython3",
   "version": "3.10.9"
  }
 },
 "nbformat": 4,
 "nbformat_minor": 5
}
