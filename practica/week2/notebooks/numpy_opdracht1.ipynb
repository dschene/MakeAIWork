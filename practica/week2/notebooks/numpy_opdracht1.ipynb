{
 "cells": [
  {
   "cell_type": "markdown",
   "id": "b45dd50e-d75c-41d2-a549-110cc111e32b",
   "metadata": {},
   "source": [
    "<div>\n",
    "    <img src='../../pics/banner.PNG'/>\n",
    "</div>\n",
    "<div>\n",
    "    <img width=\"10%\" height=\"10%\" src='../../pics/python-programming.png'/>\n",
    "    <img src='../../pics/miw.PNG'/>\n",
    "</div>\n",
    "<div>\n",
    "    <em>Author: Jeroen Boogaard</em>\n",
    "</div>"
   ]
  },
  {
   "cell_type": "markdown",
   "id": "63f0720b-4a62-479d-873b-c5f6cad9a89d",
   "metadata": {},
   "source": [
    "<h1>Numpy</h1>"
   ]
  },
  {
   "cell_type": "markdown",
   "id": "3619d610-30b3-41a2-b5f0-ae37b9d5b105",
   "metadata": {},
   "source": [
    "**Imports**"
   ]
  },
  {
   "cell_type": "code",
   "execution_count": 1,
   "id": "42257a05-c794-4121-a9cf-fe53fa3a1dc1",
   "metadata": {},
   "outputs": [],
   "source": [
    "import cv2 \n",
    "import numpy as np\n",
    "import pandas as pd\n",
    "import matplotlib.pyplot as plt\n",
    "from PIL import Image\n",
    "from scipy import ndimage"
   ]
  },
  {
   "cell_type": "markdown",
   "id": "42a2379c-9f57-46c5-9ec0-22422a1a58c3",
   "metadata": {},
   "source": [
    "**Gebruik de numpy methode <i>flip</i> voor het spiegelen van een image**"
   ]
  },
  {
   "cell_type": "markdown",
   "id": "b336b20e-554a-4a10-81f4-10801b857170",
   "metadata": {},
   "source": [
    "<h2>Opdracht 1</h2>\n",
    "<ol>\n",
    "    <li>Spiegel pImg over de hortizontale as en ken de resulterende afbeelding toe aan variabele <u>bImg</u></li>\n",
    "    <li>Spiegel qImg over de hortizontale as en ken de resulterende afbeelding toe aan variabele <u>dImg</u></li>\n",
    "    <li>Geef bImg en dImg naast elkaar weer op de lege plaatsen in het raster</li>    \n",
    "</ol>"
   ]
  },
  {
   "cell_type": "code",
   "execution_count": 12,
   "id": "b5ae04a8-a828-46d8-b316-d6e658f68e1f",
   "metadata": {},
   "outputs": [
    {
     "data": {
      "text/plain": [
       "<matplotlib.image.AxesImage at 0x14ac078e0>"
      ]
     },
     "execution_count": 12,
     "metadata": {},
     "output_type": "execute_result"
    },
    {
     "data": {
      "image/png": "[encoded data removed]",
      "text/plain": [
       "<Figure size 640x480 with 4 Axes>"
      ]
     },
     "metadata": {},
     "output_type": "display_data"
    }
   ],
   "source": [
    "pImg = cv2.imread(\"../../pics/letter_p.png\")\n",
    "\n",
    "# Maak een raster voor 4 images\n",
    "fig, axs = plt.subplots(2, 2, sharey=True)\n",
    "             \n",
    "axs[0][0].imshow(pImg)\n",
    "\n",
    "# Spiegel over de verticale as\n",
    "qImg = np.flip(pImg, axis=1)\n",
    "axs[0][1].imshow(qImg)\n",
    "\n",
    "\n",
    "# de eerst image gespiegeld over de horizontale as\n",
    "bImg = np.flip(pImg, axis=0)\n",
    "axs[1][0].imshow(bImg)\n",
    "\n",
    "# de tweede image gespiegeld over de horizontale as\n",
    "dImg = np.flip(qImg, axis=0)\n",
    "axs[1][1].imshow(dImg)"
   ]
  },
  {
   "cell_type": "markdown",
   "id": "8e48110a-ff83-4fba-aab9-7cb3678fe668",
   "metadata": {},
   "source": [
    "<h2>Opdracht 2</h2>"
   ]
  },
  {
   "cell_type": "markdown",
   "id": "47ac5b87-14b1-437e-91cb-93dadadef8f9",
   "metadata": {},
   "source": [
    "<h3>Gegeven</h3>"
   ]
  },
  {
   "cell_type": "markdown",
   "id": "8605ba6e-3f4e-4fe1-b76f-c784f2f44735",
   "metadata": {},
   "source": [
    "Planeet | Grootte to.v. de omvang van de Aarde\n",
    "---|---\n",
    "Jupiter | 1120%\n",
    "Saturnus | 945%\n",
    "Uranus | 400%\n",
    "Neptunus | 388%\n",
    "Aarde| 100%\n",
    "Venus | 95%\n",
    "Mars | 53%\n",
    "Mercury | 33%"
   ]
  },
  {
   "cell_type": "code",
   "execution_count": 19,
   "id": "2b471d98-c5b0-4db0-a1c6-155094548c23",
   "metadata": {},
   "outputs": [],
   "source": [
    "filename = \"../../csv/planets.csv\""
   ]
  },
  {
   "cell_type": "markdown",
   "id": "ad98fa30-0e0a-4ec4-9930-b63db74c11f2",
   "metadata": {},
   "source": [
    "<h3>Gevraagd</h3>\n",
    "<p>\n",
    "Schaal voor elke (erkende) planeet uit ons zonnestelsel de bijbehorende image t.o.v. van de aarde. Het geschaalde plaatje moet groter zijn dan het plaatje van de aarde als de bijbehorende planeet groter is dan de aarde. Is de planeet kleiner dan de aarde dan moet het nieuwe plaatje kleiner zijn. Gebruik voor de schaalfactor het percentage. \n",
    "<br>Tip: Indien nodig kun je de images normaliseren door eerst het plaatje van de aarde naar de gete schalen.\n",
    "</p>"
   ]
  },
  {
   "cell_type": "markdown",
   "id": "c0c854fb-54db-4baa-b149-2e7d0c1b6391",
   "metadata": {},
   "source": [
    "<h3>Oplossing</h3>\n",
    "<ol>\n",
    "    <li>\n",
    "        <strong>Open het bestand csv/planets.csv en voeg daar de kolom <i>image</i></strong>\n",
    "    </li>\n",
    "    <li>\n",
    "        <strong>Importeer het csv-bestand en sla de data op in een dictionary</strong>\n",
    "    </li>\n",
    "    <li>\n",
    "        <strong>Open een image uit van een item uit de dictionary</strong>\n",
    "    </li>\n",
    "    <li>\n",
    "        <strong>Schaal de image m.b.v. een <i>numpy array</i></strong>\n",
    "    </li>\n",
    "    <li>\n",
    "        <strong>Sla de geschaalde image op</strong>\n",
    "    </li>\n",
    "    <li>\n",
    "        <strong>Schrijf een functie voor het schalen van een image</strong>\n",
    "    </li>    \n",
    "    <li>\n",
    "        <strong>Maak een loop waarbij voor elke planeet een geschaalde image wordt gemaakt en opgelagen</strong>\n",
    "    </li>    \n",
    "</ol>    "
   ]
  },
  {
   "cell_type": "code",
   "execution_count": 45,
   "id": "1f0e855b",
   "metadata": {},
   "outputs": [
    {
     "name": "stdout",
     "output_type": "stream",
     "text": [
      "[{'Name': 'Mercury', ' Diameter': ' 4879.4', ' Mass': ' 3.302×10^23', ' Inclination': ' 7.004', ' Eccentricity': ' 0.20563593', ' Semi_majorAxis': ' 0.38709927', ' SurfaceGravity': ' 3.7', ' OrbitalPeriod': ' 0.241', ' SiderealRotation': ' 58.65', ' Satellites': ' 0', ' DistanceToSun': ' 0.39', ' Type': ' terrestrial', ' Image': '../../pics/mercury.jpg'}, {'Name': 'Venus', ' Diameter': ' 12103.6', ' Mass': ' 4.869×10^24', ' Inclination': ' 3.39471', ' Eccentricity': ' 0.00677672', ' Semi_majorAxis': ' 0.72333566', ' SurfaceGravity': ' 8.87', ' OrbitalPeriod': ' 0.615', ' SiderealRotation': ' 243.0187', ' Satellites': ' 0', ' DistanceToSun': ' 0.723', ' Type': ' terrestrial', ' Image': '../../pics/venus.jpg'}, {'Name': 'Earth', ' Diameter': ' 12756.3', ' Mass': ' 5.974×10^24', ' Inclination': ' 0.00005', ' Eccentricity': ' 0.01671123', ' Semi_majorAxis': ' 1.00000261', ' SurfaceGravity': ' 9.78', ' OrbitalPeriod': ' 1', ' SiderealRotation': ' 0.997271', ' Satellites': ' 1', ' DistanceToSun': ' 1.0', ' Type': ' terrestrial', ' Image': '../../pics/earth.jpg'}, {'Name': 'Mars', ' Diameter': ' 6794.4', ' Mass': ' 6.419×10^23', ' Inclination': ' 1.85061', ' Eccentricity': ' 0.0933941', ' Semi_majorAxis': ' 1.52371034', ' SurfaceGravity': ' 3.71', ' OrbitalPeriod': ' 1.881', ' SiderealRotation': ' 1.02595', ' Satellites': ' 2', ' DistanceToSun': ' 1.524', ' Type': ' terrestrial', ' Image': '../../pics/mars.jpg'}, {'Name': 'Jupiter', ' Diameter': ' 142984', ' Mass': ' 1.899×10^27', ' Inclination': ' 1.3053', ' Eccentricity': ' 0.04838624', ' Semi_majorAxis': ' 5.202887', ' SurfaceGravity': ' 24.79', ' OrbitalPeriod': ' 11.86', ' SiderealRotation': ' 0.4135', ' Satellites': ' 63', ' DistanceToSun': ' 5.203', ' Type': ' jovian', ' Image': '../../pics/jupiter.jpg'}, {'Name': 'Saturn', ' Diameter': ' 120536', ' Mass': ' 5.688×10^26', ' Inclination': ' 2.48446', ' Eccentricity': ' 0.05386179', ' Semi_majorAxis': ' 9.53667594', ' SurfaceGravity': ' 8.96', ' OrbitalPeriod': ' 29.46', ' SiderealRotation': ' 0.4264', ' Satellites': ' 64', ' DistanceToSun': ' 9.539', ' Type': ' jovian', ' Image': '../../pics/saturn.jpg'}, {'Name': 'Uranus', ' Diameter': ' 51118', ' Mass': ' 8.683×10^25', ' Inclination': ' 0.774', ' Eccentricity': ' 0.04725744', ' Semi_majorAxis': ' 19.18916464', ' SurfaceGravity': ' 7.77', ' OrbitalPeriod': ' 84.01', ' SiderealRotation': ' 0.7181', ' Satellites': ' 27', ' DistanceToSun': ' 19.18', ' Type': ' jovian', ' Image': '../../pics/uranus.jpg'}, {'Name': 'Neptune', ' Diameter': ' 49572', ' Mass': ' 1.024×10^26', ' Inclination': ' 1.76917', ' Eccentricity': ' 0.00859048', ' Semi_majorAxis': ' 30.06992276', ' SurfaceGravity': ' 11', ' OrbitalPeriod': ' 164.79', ' SiderealRotation': ' 0.6712', ' Satellites': ' 14', ' DistanceToSun': ' 30.06', ' Type': ' jovian', ' Image': '../../pics/neptune.jpg'}]\n"
     ]
    }
   ],
   "source": [
    "from csv import DictReader\n",
    "\n",
    "with open(filename, 'r') as f:\n",
    "     \n",
    "    dict_reader = DictReader(f)\n",
    "     \n",
    "    list_of_dict = list(dict_reader)\n",
    "   \n",
    "    print(list_of_dict)"
   ]
  },
  {
   "cell_type": "markdown",
   "id": "b2a7b7fb-56b3-43f7-a6b5-34adc057c3d1",
   "metadata": {},
   "source": [
    "**Stap 2: Importeer het csv-bestand en sla de data op in een dictionary**"
   ]
  },
  {
   "cell_type": "code",
   "execution_count": 21,
   "id": "cbcb0e9b-46f8-490d-9a85-eb29037a93cb",
   "metadata": {},
   "outputs": [
    {
     "name": "stdout",
     "output_type": "stream",
     "text": [
      "      Name   Diameter          Mass   Inclination   Eccentricity  \\\n",
      "0  Mercury     4879.4   3.302×10^23       7.00400       0.205636   \n",
      "1    Venus    12103.6   4.869×10^24       3.39471       0.006777   \n",
      "2    Earth    12756.3   5.974×10^24       0.00005       0.016711   \n",
      "3     Mars     6794.4   6.419×10^23       1.85061       0.093394   \n",
      "4  Jupiter   142984.0   1.899×10^27       1.30530       0.048386   \n",
      "5   Saturn   120536.0   5.688×10^26       2.48446       0.053862   \n",
      "6   Uranus    51118.0   8.683×10^25       0.77400       0.047257   \n",
      "7  Neptune    49572.0   1.024×10^26       1.76917       0.008590   \n",
      "\n",
      "    Semi_majorAxis   SurfaceGravity   OrbitalPeriod   SiderealRotation  \\\n",
      "0         0.387099             3.70           0.241          58.650000   \n",
      "1         0.723336             8.87           0.615         243.018700   \n",
      "2         1.000003             9.78           1.000           0.997271   \n",
      "3         1.523710             3.71           1.881           1.025950   \n",
      "4         5.202887            24.79          11.860           0.413500   \n",
      "5         9.536676             8.96          29.460           0.426400   \n",
      "6        19.189165             7.77          84.010           0.718100   \n",
      "7        30.069923            11.00         164.790           0.671200   \n",
      "\n",
      "    Satellites   DistanceToSun          Type                      Image  \n",
      "0            0           0.390   terrestrial   '../../pics/mercury.jpg'  \n",
      "1            0           0.723   terrestrial     '../../pics/venus.jpg'  \n",
      "2            1           1.000   terrestrial     '../../pics/earth.jpg'  \n",
      "3            2           1.524   terrestrial      '../../pics/mars.jpg'  \n",
      "4           63           5.203        jovian   '../../pics/jupiter.jpg'  \n",
      "5           64           9.539        jovian    '../../pics/saturn.jpg'  \n",
      "6           27          19.180        jovian    '../../pics/uranus.jpg'  \n",
      "7           14          30.060        jovian   '../../pics/neptune.jpg'  \n",
      "Index(['Name', ' Diameter', ' Mass', ' Inclination', ' Eccentricity',\n",
      "       ' Semi_majorAxis', ' SurfaceGravity', ' OrbitalPeriod',\n",
      "       ' SiderealRotation', ' Satellites', ' DistanceToSun', ' Type',\n",
      "       ' Image'],\n",
      "      dtype='object')\n"
     ]
    }
   ],
   "source": [
    "planetDataFrame = pd.read_csv(filename, header = 0, sep = ',')\n",
    "print(planetDataFrame)\n",
    "type(planetDataFrame)\n",
    "print(planetDataFrame.columns)\n",
    "\n",
    "\n"
   ]
  },
  {
   "cell_type": "markdown",
   "id": "9d9d8c73-c8fa-41b0-848c-04741aa06bbf",
   "metadata": {},
   "source": [
    "**Stap 3: Open een image uit van een item uit de dictionary**"
   ]
  },
  {
   "cell_type": "code",
   "execution_count": 18,
   "id": "83d43bb9-694e-4390-a8a3-30f6535f6591",
   "metadata": {},
   "outputs": [],
   "source": [
    "img = Image.open('../../pics/earth.jpg')\n",
    "type(img)\n",
    "img.show()"
   ]
  },
  {
   "cell_type": "code",
   "execution_count": 51,
   "id": "c8fbfacf",
   "metadata": {},
   "outputs": [],
   "source": [
    "img_2 = Image.open(list_of_dict[0][' Image'])\n",
    "img_2.show()"
   ]
  },
  {
   "cell_type": "markdown",
   "id": "645b438b-324d-427c-9efd-d621e37445f7",
   "metadata": {
    "tags": []
   },
   "source": [
    "**Stap 4: Schaal de image m.b.v. een numpy array**"
   ]
  },
  {
   "cell_type": "code",
   "execution_count": 16,
   "id": "8894e6bd-6237-4cf6-8d95-222d6a3be56e",
   "metadata": {},
   "outputs": [],
   "source": [
    "array = np.array(img)\n",
    "type(array)\n",
    "scaleFactor = 2\n",
    "scaleArray = ndimage.zoom(array, (scaleFactor, scaleFactor, 1))\n",
    "imgScaled = Image.fromarray(scaleArray)\n",
    "imgScaled.show()"
   ]
  },
  {
   "cell_type": "code",
   "execution_count": 80,
   "id": "2abdb17d",
   "metadata": {},
   "outputs": [],
   "source": [
    "#De scaling factor kunnen we berekenen door elke 'diameter' te delen door die van de aarde, en dat is 12756.3\n",
    "\n",
    "#Bijvoorbeeld voor de de eerste planeet, mercury:\n",
    "\n",
    "array_1 = np.array(img_2)\n",
    "scale_factor = float(list_of_dict[0][' Diameter']) / 12756.3\n",
    "\n",
    "scaleArray_1 = ndimage.zoom(array_1, (scale_factor, scale_factor, 1))\n",
    "mercury_scaled = Image.fromarray(scaleArray_1)\n",
    "mercury_scaled.show()"
   ]
  },
  {
   "cell_type": "markdown",
   "id": "8611929d-d109-4f62-881f-b8a64db1e648",
   "metadata": {},
   "source": [
    "**Stap 5: Sla de geschaalde image op**"
   ]
  },
  {
   "cell_type": "code",
   "execution_count": 75,
   "id": "2e34fa25-3cc3-4e5f-b29a-7793e505db61",
   "metadata": {},
   "outputs": [
    {
     "data": {
      "text/plain": [
       "PIL.Image.Image"
      ]
     },
     "execution_count": 75,
     "metadata": {},
     "output_type": "execute_result"
    }
   ],
   "source": [
    "imgScaled.save(img.filename.replace(\".jpg\",\"_scaled.jpg\"))\n",
    "type(imgScaled)"
   ]
  },
  {
   "cell_type": "markdown",
   "id": "f142ebe1-f561-447b-8e2e-e8855b20cd50",
   "metadata": {},
   "source": [
    "**Stap 6: Schrijf een functie voor het schalen van een image**"
   ]
  },
  {
   "cell_type": "code",
   "execution_count": 92,
   "id": "e85861e5-84de-4554-b14a-dca34f035f81",
   "metadata": {},
   "outputs": [],
   "source": [
    "def scale_image(input_dict):\n",
    "    #eerst zorgen we dat we voor elke dictionary/planeet het bestand openen\n",
    "    img_file = Image.open(input_dict[' Image'])\n",
    "    \n",
    "    \n",
    "    #vervolgens maken we van het plaatje een numpy array\n",
    "    input_array = np.array(img_file)\n",
    "    \n",
    "    #we berekenen de scale factor door de diameter van de planeet te delen door die van de aarde\n",
    "    scale_factor = round(float(input_dict[' Diameter']) / 12756.3, 2)\n",
    "    \n",
    "    #we 'scalen' de input array en outputten deze als een nieuwe array\n",
    "    scaled_array = ndimage.zoom(input_array, (scale_factor, scale_factor, 1))\n",
    "    \n",
    "    #we maken een nieuw plaatje van de gescalede array\n",
    "    planet_scaled = Image.fromarray(scaled_array)\n",
    "    \n",
    "    #even een berichtje\n",
    "    print(f\"Scaling planet {input_dict['Name']} by a factor of {scale_factor}\")\n",
    "    \n",
    "    #we slaan het plaatje op \n",
    "    planet_scaled.save(img_file.filename.replace(\".jpg\", \"_scaled.jpg\"))"
   ]
  },
  {
   "cell_type": "markdown",
   "id": "5a550077-c83c-4af2-96fa-7a32158d5198",
   "metadata": {},
   "source": [
    "**Stap 7: Maak een loop waarbij voor elke planeet een geschaalde image wordt gemaakt en opgelagen**"
   ]
  },
  {
   "cell_type": "code",
   "execution_count": 93,
   "id": "bcd17539-c85a-42a4-b84c-681764682f60",
   "metadata": {},
   "outputs": [
    {
     "name": "stdout",
     "output_type": "stream",
     "text": [
      "Scaling planet Mercury by a factor of 0.38\n",
      "Scaling planet Venus by a factor of 0.95\n",
      "Scaling planet Earth by a factor of 1.0\n",
      "Scaling planet Mars by a factor of 0.53\n",
      "Scaling planet Jupiter by a factor of 11.21\n",
      "Scaling planet Saturn by a factor of 9.45\n",
      "Scaling planet Uranus by a factor of 4.01\n",
      "Scaling planet Neptune by a factor of 3.89\n"
     ]
    }
   ],
   "source": [
    "# Oplossing\n",
    "\n",
    "for planet in list_of_dict:\n",
    "    scale_image(planet)\n",
    "    \n",
    "    "
   ]
  },
  {
   "cell_type": "markdown",
   "id": "03ac855f-3986-4b4a-823c-10c6d8b33024",
   "metadata": {},
   "source": [
    "</ol>"
   ]
  },
  {
   "cell_type": "markdown",
   "id": "0be19a7e-a00f-4773-a19a-50b07618f856",
   "metadata": {},
   "source": [
    "\n"
   ]
  }
 ],
 "metadata": {
  "kernelspec": {
   "display_name": "Python 3 (ipykernel)",
   "language": "python",
   "name": "python3"
  },
  "language_info": {
   "codemirror_mode": {
    "name": "ipython",
    "version": 3
   },
   "file_extension": ".py",
   "mimetype": "text/x-python",
   "name": "python",
   "nbconvert_exporter": "python",
   "pygments_lexer": "ipython3",
   "version": "3.10.9"
  }
 },
 "nbformat": 4,
 "nbformat_minor": 5
}
