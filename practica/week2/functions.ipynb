{
 "cells": [
  {
   "cell_type": "markdown",
   "id": "7eb1c299-98e2-45cb-9af8-8247ab78e8a0",
   "metadata": {},
   "source": [
    "<a href=\"https://it-omscholing.nl/locaties/hogeschool-rotterdam/\">\n",
    "<div>\n",
    "<a><img src='pics/banner.PNG'/></a>\n",
    "</div>\n",
    "<div>\n",
    "<a href=''><img src='pics/miw.PNG'/></a>\n",
    "<em>Author: Jeroen Boogaard</em>\n",
    "</div>\n",
    "</a>"
   ]
  },
  {
   "cell_type": "markdown",
   "id": "f8c3166e-a33e-466b-80ba-026a1d9b469f",
   "metadata": {},
   "source": [
    "<h1>Functies</h1>"
   ]
  },
  {
   "cell_type": "markdown",
   "id": "c9392295-fc66-4c23-b5a1-bd6e77d04144",
   "metadata": {},
   "source": [
    "<h3>Strings</h3>"
   ]
  },
  {
   "cell_type": "markdown",
   "id": "e93ad462-46c4-4028-ace1-b4b84b45a5da",
   "metadata": {},
   "source": [
    "**Functies kunnen worden aangeroepen zonder argument**"
   ]
  },
  {
   "cell_type": "code",
   "execution_count": null,
   "id": "610cb44d-3ec8-413e-9e83-8f7602ab1481",
   "metadata": {},
   "outputs": [],
   "source": [
    "def printExampleString():\n",
    "    print(\"Because of Mercury's elliptical – egg-shaped – orbit, and sluggish rotation, the Sun appears to rise briefly, set, and rise again from some parts of the planet's surface. The same thing happens in reverse at sunset.\")\n",
    "    \n",
    "printExampleString()"
   ]
  },
  {
   "cell_type": "markdown",
   "id": "864dc06d-4fa5-40ad-b407-a28a34084be1",
   "metadata": {},
   "source": [
    "**Gebruik een <i>docstring</i> om een String over meerdere regels te verdelen**"
   ]
  },
  {
   "cell_type": "code",
   "execution_count": null,
   "id": "10ef19a8-1b77-4c99-a3fd-fe4554daa771",
   "metadata": {},
   "outputs": [],
   "source": [
    "def showDocString():\n",
    "    \"\"\"\n",
    "    De docstring is een beschrijving van een functie, die bedoeld is voor de programmeur. \n",
    "    De Python interpreter negeert deze String\n",
    "    \"\"\"\n",
    "\n",
    "print(showDocString.__doc__)"
   ]
  },
  {
   "cell_type": "markdown",
   "id": "1fa654e3-5c01-4cbb-af3b-dceb2fa7ea5a",
   "metadata": {},
   "source": [
    "<h3>Numbers</h3>"
   ]
  },
  {
   "cell_type": "markdown",
   "id": "e536b14f-3bf5-41d8-a00c-1df335cef63d",
   "metadata": {},
   "source": [
    "**Functies kunnen worden aangeroepen met een variabele als argument**"
   ]
  },
  {
   "cell_type": "code",
   "execution_count": null,
   "id": "6c24ec9f-d20e-497c-a3d7-3e28be4ee28f",
   "metadata": {},
   "outputs": [],
   "source": [
    "def milesToKilometers(distance):\n",
    "    return round(distance * 1.609344, 2)\n",
    "\n",
    "distanceInMiles = 500\n",
    "print( f\"The meteoroid entered the atmosphere at over {int(milesToKilometers(distanceInMiles)*3600)} kilometers per hour.\" )"
   ]
  },
  {
   "cell_type": "markdown",
   "id": "8764da59-d4eb-4703-a1c2-dfa750aea51c",
   "metadata": {},
   "source": [
    "**Het argument van een functie kan <i>optioneel</i> worden gemaakt met een <i>default</i> waarde**"
   ]
  },
  {
   "cell_type": "code",
   "execution_count": null,
   "id": "9aa67dcd-cf00-43d0-a9f7-94b03f6daf9d",
   "metadata": {},
   "outputs": [],
   "source": [
    "def milesToKilometers(distance=1):\n",
    "    return distance * 1.609344\n",
    "\n",
    "print(f\"A mile is longer than a kilometer and is equivalent to approximately { round(milesToKilometers(),1) } kilometers\")"
   ]
  },
  {
   "cell_type": "markdown",
   "id": "ea21995d-c3eb-4a9f-b73e-78b3e72c75c4",
   "metadata": {},
   "source": [
    "<h3>Exercise 7</h3>\n",
    "<p>Schrijf een functie voor het omzetten van een gewicht in <i>pounds</i> naar een <u>geheel aantal</u> <i>kilo's</i></p>"
   ]
  },
  {
   "cell_type": "code",
   "execution_count": null,
   "id": "62ae6724-341c-4d15-a3ac-7072746d70e8",
   "metadata": {},
   "outputs": [],
   "source": [
    "# Oplossing\n",
    "def pounds_to_kilos(pounds):\n",
    "    return round(pounds * 0.453592372)\n",
    "\n",
    "print(pounds_to_kilos(5))"
   ]
  },
  {
   "cell_type": "markdown",
   "id": "5ac2bd1b-62dd-431c-99a4-f659a5c8599e",
   "metadata": {},
   "source": [
    "<h3>Booleans</h3>"
   ]
  },
  {
   "cell_type": "markdown",
   "id": "23590b8a-c805-4c2a-ad6d-8ba9e7f17f05",
   "metadata": {},
   "source": [
    "Volgens de eerste stelling van DeMorgan kun is de expressie <strong>not (p and q</strong>) <u>equivalent</u> aan <strong>(not p) or (not q)</strong>"
   ]
  },
  {
   "cell_type": "code",
   "execution_count": null,
   "id": "d62120a0-45df-49f9-9998-41e09c0acb54",
   "metadata": {},
   "outputs": [],
   "source": [
    "def deMorgan1(p, q):\n",
    "    return (not p) or (not q)"
   ]
  },
  {
   "cell_type": "markdown",
   "id": "2ede72d8-2fb4-4387-9202-cd52334721f7",
   "metadata": {},
   "source": [
    "**Gebruik een waarheidstabel voor beschrijven van logische functies**"
   ]
  },
  {
   "cell_type": "code",
   "execution_count": null,
   "id": "cf2642fa-be01-43bc-ac74-3f50c74add66",
   "metadata": {},
   "outputs": [],
   "source": [
    "logTable = [f\"p\\tq\\tnot(p and q)\\t\\033[1mdeMorgan1(p, q)\\033[0m\"]\n",
    "for p in [False, True]:\n",
    "    for q in [False, True]:\n",
    "        logTable.append(f\"{p}\\t{q}\\t{ not (p and q) }\\t\\t\\033[1m{ deMorgan1(p,q) }\\033[0m\")\n",
    "\n",
    "print(\"\\n\".join(logTable))\n"
   ]
  },
  {
   "cell_type": "markdown",
   "id": "ad3b0150-ef9b-4bbe-98d3-808e3c87d932",
   "metadata": {},
   "source": [
    "Volgens de tweede stelling van DeMorgan kun is de expressie <strong>not (p or q</strong>) <u>equivalent</u> aan <strong>(not p) and (not q)</strong>"
   ]
  },
  {
   "cell_type": "markdown",
   "id": "960a380d-cff5-463c-b4ab-ee124f01471b",
   "metadata": {},
   "source": [
    "<h3>Exercise 8</h3>\n",
    "<p>Implementeer de tweede stelling van DeMorgan in een functie <u>bothFalse</u> en toon m.b.v. een waarheidstabel de juiste werking van de functie aan.\n",
    "</p>"
   ]
  },
  {
   "cell_type": "code",
   "execution_count": null,
   "id": "06311702-5a8f-4840-bb3f-5704d14912f9",
   "metadata": {},
   "outputs": [],
   "source": [
    "# Oplossing\n",
    "\n",
    "def bothFalse(p,q):\n",
    "    return not p and not q\n",
    "\n",
    "\n",
    "\n",
    "logTable = [f\"p\\tq\\tnot(p or q)\\t\\033[1mdeMorgan2(p, q)\\033[0m\"]\n",
    "for p in [False, True]:\n",
    "    for q in [False, True]:\n",
    "        logTable.append(f\"{p}\\t{q}\\t{ not (p or q) }\\t\\t\\033[1m{ bothFalse(p,q) }\\033[0m\")\n",
    "\n",
    "print(\"\\n\".join(logTable))"
   ]
  },
  {
   "cell_type": "markdown",
   "id": "5fa081eb-6479-43d5-a46e-0078a54f203b",
   "metadata": {},
   "source": [
    "<h3>Lists</h3>"
   ]
  },
  {
   "cell_type": "code",
   "execution_count": null,
   "id": "6ea79e2d-704a-413d-a393-81e4298eb11e",
   "metadata": {},
   "outputs": [],
   "source": [
    "digits = list( range(0,100,3) )\n",
    "print(f\"The lowest value of digits is { min(digits) } and { max(digits) } is the highest value\")"
   ]
  },
  {
   "cell_type": "code",
   "execution_count": null,
   "id": "84dfab1b-d3cb-45c2-a6bd-0738b3d10de6",
   "metadata": {},
   "outputs": [],
   "source": [
    "sum(digits)"
   ]
  },
  {
   "cell_type": "markdown",
   "id": "b15614fe-c85c-4cdc-a575-f553c734585e",
   "metadata": {},
   "source": [
    "<h3>Exercise 9</h3>\n",
    "<p>\n",
    "    Schrijf een functie <i>averageOfDigits</i> die het <u>gemiddelde</u> van een lijst <u>gehele getallen</u> berekent en teruggeeft als <u>geheel getal</u>\n",
    "    <br>Retourneer <u>0</u> in geval de lijst <u>leeg</u> is\n",
    "</p>"
   ]
  },
  {
   "cell_type": "code",
   "execution_count": 65,
   "id": "c6bf6571-2329-4ef8-b21a-c1f330395f1c",
   "metadata": {},
   "outputs": [
    {
     "name": "stdout",
     "output_type": "stream",
     "text": [
      "<class 'tuple'> (1, 2, 3, 4, 5)\n"
     ]
    },
    {
     "data": {
      "text/plain": [
       "3"
      ]
     },
     "execution_count": 65,
     "metadata": {},
     "output_type": "execute_result"
    }
   ],
   "source": [
    "# Oplossing\n",
    "def averageOfDigits(inp_list):\n",
    "    #als de lijst NIET leeg is ()\n",
    "    if inp_list:\n",
    "        return round(sum(inp_list)/len(inp_list))\n",
    "    #als de bovenstaande conditie niet opgaat, dan moet de lijst wel leeg zijn, en retourneren we 0\n",
    "    else:\n",
    "        return 0\n",
    "\n",
    "\n",
    "# Oplossing voor gevallen met een obekend aantal arguments\n",
    "# door een * voor de argument variabele te plaatsen maken we deze \"flexibel\" en krijgt \"numbers\" automatisch alle waarden\n",
    "def averageOfDigits_2(*numbers):\n",
    "    #even kijken wat de * precies teruggeeft, en dat is een tuple met daarin alle gegeven arguments\n",
    "    print(type(numbers), numbers)\n",
    "    #we geven de som van alle elementen in de tuple, gedeeld door de lengte, als deze niet leeg is (if(tuple)), anders geven we 0 terug\n",
    "    return round(sum(numbers)/len(numbers)) if numbers else 0\n",
    "\n",
    "\n",
    "averageOfDigits_2(1,2,3,4,5)"
   ]
  },
  {
   "cell_type": "code",
   "execution_count": null,
   "id": "9a0b5c63",
   "metadata": {},
   "outputs": [],
   "source": [
    "#een functie die checkt hoeveel klinkers er in een woord zitten\n",
    "\n",
    "def count_vowels(input_string):\n",
    "    #elke keer als we een klinker tegenkomen (if i in 'aeoui') voegen we deze toe aan een nieuwe lijst, vervolgens geeft de functie de lengte van deze lijst\n",
    "    #terug aan ons, en zo weten we hoevel klinkers er in een gegeven string staan\n",
    "    return len([char for char in input_string.lower() if char in 'aeoui'])\n",
    "\n",
    "\n",
    "count_vowels('hello world, this is your captain speaking')"
   ]
  },
  {
   "cell_type": "code",
   "execution_count": 81,
   "id": "648e9ff4",
   "metadata": {},
   "outputs": [],
   "source": [
    "#Factorial functie\n",
    "\n",
    "def factorial_func(n):\n",
    "    if n <= 1:\n",
    "        return 1\n",
    "    return n * (factorial_func(n-1))"
   ]
  },
  {
   "cell_type": "code",
   "execution_count": 83,
   "id": "d049ef97",
   "metadata": {},
   "outputs": [],
   "source": [
    "def fib_function(n):\n",
    "    i"
   ]
  },
  {
   "cell_type": "code",
   "execution_count": null,
   "id": "73e41fc3",
   "metadata": {},
   "outputs": [],
   "source": []
  }
 ],
 "metadata": {
  "kernelspec": {
   "display_name": "Python 3 (ipykernel)",
   "language": "python",
   "name": "python3"
  },
  "language_info": {
   "codemirror_mode": {
    "name": "ipython",
    "version": 3
   },
   "file_extension": ".py",
   "mimetype": "text/x-python",
   "name": "python",
   "nbconvert_exporter": "python",
   "pygments_lexer": "ipython3",
   "version": "3.10.9"
  }
 },
 "nbformat": 4,
 "nbformat_minor": 5
}
