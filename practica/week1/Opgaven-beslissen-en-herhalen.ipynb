{
 "cells": [
  {
   "cell_type": "markdown",
   "id": "6e93d43b",
   "metadata": {},
   "source": [
    "# Beslissen en herhalen"
   ]
  },
  {
   "cell_type": "markdown",
   "id": "a4f6c97b",
   "metadata": {},
   "source": [
    "Om effectief te kunnen programmeren moet je:\n",
    "\n",
    "#### 1. Weten welke basisinstructies je tot je beschikking hebt\n",
    "Een mooi startpunt is [W3Schools over Python](https://www.w3schools.com/python/default.asp).\n",
    "\n",
    "\n",
    "#### 2. Weten hoe je de juiste instructies kunt vinden\n",
    "De zoektermen volgen uit je literate programming beschrijving en je pseudo code.\n",
    "\n",
    "### Let op!\n",
    "Het kan verleidelijk zijn om de OPLOSSING te googlen, zeker in het begin.\n",
    "\n",
    "##### Als je merkt dat je dit aan het doen bent, dan heb je de literate programming steps niet precies genoeg uitgewerkt.\n",
    "De opdracht is dan te groot en te complex."
   ]
  },
  {
   "cell_type": "markdown",
   "id": "92ed6127",
   "metadata": {},
   "source": [
    "## Basics: beslissen"
   ]
  },
  {
   "cell_type": "markdown",
   "id": "e0b00e53",
   "metadata": {},
   "source": [
    "Bestudeer [if else statements](https://www.w3schools.com/python/python_conditions.asp)\n",
    "\n",
    "(de voorbeelden zijn interactief)"
   ]
  },
  {
   "cell_type": "markdown",
   "id": "eb320abd",
   "metadata": {},
   "source": [
    "### 1. Vergelijken**"
   ]
  },
  {
   "cell_type": "markdown",
   "id": "f522b9d8",
   "metadata": {},
   "source": [
    "- Laat de gebruiker twee woorden invoeren\n",
    "- Geef aan welk woord het langs is\n",
    "- Neem ook het geval dat ze gelijk zijn mee\n",
    "- Print het resultaat\n",
    "\n",
    "Hint: je mag in dit geval [de functie len()](https://www.w3schools.com/python/python_strings.asp) gebruiken"
   ]
  },
  {
   "cell_type": "code",
   "execution_count": 13,
   "id": "0e2aedfa",
   "metadata": {},
   "outputs": [
    {
     "name": "stdout",
     "output_type": "stream",
     "text": [
      "Geef twee woorden op, met een spatie tussen de woorden: Hoi Man\n",
      "Je hebt \"Hoi\" gekozen als eerste woord, en \"Man\" als tweede woord.\n",
      "Hoi is 3 tekens lang, Man is 3 tekens lang.\n",
      "De woorden zijn even lang.\n"
     ]
    }
   ],
   "source": [
    "# 1. Formulate a solution\n",
    "\n",
    "#1- vraag de gebruiker om twee woorden en stop deze in twee variabelen\n",
    "#2- evalueer per woord wat de lengte is\n",
    "#3- vergelijk de twee lengtes met elkaar\n",
    "#4- print het woord dat het langste is, en print een \"gelijk\" bericht wanneer de woorded van gelijke lengte zijn\n",
    "\n",
    "\n",
    "# 2. Implement the solution\n",
    "\n",
    "#1- vraag de gebruiker om twee woorden en stop deze in twee variabelen\n",
    "word_1, word_2 = input(\"Geef twee woorden op, met een spatie tussen de woorden: \").split()\n",
    "print(f\"Je hebt \\\"{word_1}\\\" gekozen als eerste woord, en \\\"{word_2}\\\" als tweede woord.\")\n",
    "\n",
    "#2- evalueer per woord wat de lengte is\n",
    "len_w1, len_w2 = len(word_1), len(word_2)\n",
    "print(f\"{word_1} is {len_w1} tekens lang, {word_2} is {len_w2} tekens lang.\")\n",
    "\n",
    "#3- vergelijk de twee lengtes met elkaar\n",
    "#4- print het woord dat het langste is, en print een \"gelijk\" bericht wanneer de woorded van gelijke lengte zijn\n",
    "if len_w1 > len_w2:\n",
    "    print(f\"{word_1} is langer dan {word_2}\")\n",
    "elif len_w2 > len_w1:\n",
    "    print(f\"{word_2} is langer dan {word_1}\")\n",
    "else:\n",
    "    print(\"De woorden zijn even lang.\")"
   ]
  },
  {
   "cell_type": "markdown",
   "id": "0b5a8819",
   "metadata": {},
   "source": [
    "### 2. Categoriseren**"
   ]
  },
  {
   "cell_type": "markdown",
   "id": "49270585",
   "metadata": {},
   "source": [
    "- Vraag de gebruiker om een getal\n",
    "- Bepaal of dit getal even is\n",
    "- Print het resultaat\n",
    "\n",
    "Hint: je mag in dit geval de [operatoren '/' en '%'](https://www.w3schools.com/python/python_operators.asp) gebruiken"
   ]
  },
  {
   "cell_type": "code",
   "execution_count": 17,
   "id": "98a288c9",
   "metadata": {},
   "outputs": [
    {
     "name": "stdout",
     "output_type": "stream",
     "text": [
      "Geef een getal op: 99\n",
      "Het opgegeven nummer is: oneven\n"
     ]
    }
   ],
   "source": [
    "# 1. Formulate a solution\n",
    "\n",
    "#1- Vraag de gebruiker om een getal en stop dit in een variabel\n",
    "#2- Bepaal of het getal even is door een berekening\n",
    "#3- Laat zien of het opgegeven getalen wel/niet even is\n",
    "\n",
    "# 2. Implement the solution\n",
    "\n",
    "#1- Vraag de gebruiker om een getal en stop dit in een variabel\n",
    "num_to_eval = eval(input(\"Geef een getal op: \"))\n",
    "\n",
    "#2- Bepaal of het getal even is door een berekening\n",
    "#3- Laat zien of het opgegeven getalen wel/niet even is\n",
    "\n",
    "if num_to_eval % 2 == 0:\n",
    "    print(\"Het opgegeven nummer is: even\")\n",
    "else:\n",
    "    print(\"Het opgegeven nummer is: oneven\")\n",
    "\n"
   ]
  },
  {
   "cell_type": "markdown",
   "id": "2be34655",
   "metadata": {},
   "source": [
    "## Basics: herhalen"
   ]
  },
  {
   "cell_type": "markdown",
   "id": "8491ff0e",
   "metadata": {},
   "source": [
    "Bestudeer [for loops](https://www.w3schools.com/python/python_for_loops.asp)\n",
    "\n",
    "Bestudeer [while loops](https://www.w3schools.com/python/python_while_loops.asp)\n",
    "\n",
    "(de voorbeelden zijn interactief)"
   ]
  },
  {
   "cell_type": "markdown",
   "id": "af980848",
   "metadata": {},
   "source": [
    "### 1. Printen*"
   ]
  },
  {
   "cell_type": "markdown",
   "id": "120a2dd8",
   "metadata": {},
   "source": [
    "- Print je naam 23 keer uit\n",
    "\n",
    "Extra: kun je het er ook een nummer voor zetten?\n",
    "\n",
    "    1. Ruud\n",
    "    2. Ruud\n",
    "    3. Ruud\n",
    "\n",
    "    ...\n",
    "\n",
    "Hint: kijk nog eens naar de les van Jeroen over strings"
   ]
  },
  {
   "cell_type": "code",
   "execution_count": 20,
   "id": "4d8cb9fb",
   "metadata": {},
   "outputs": [
    {
     "name": "stdout",
     "output_type": "stream",
     "text": [
      "1 - Daniël\n",
      "2 - Daniël\n",
      "3 - Daniël\n",
      "4 - Daniël\n",
      "5 - Daniël\n",
      "6 - Daniël\n",
      "7 - Daniël\n",
      "8 - Daniël\n",
      "9 - Daniël\n",
      "10 - Daniël\n",
      "11 - Daniël\n",
      "12 - Daniël\n",
      "13 - Daniël\n",
      "14 - Daniël\n",
      "15 - Daniël\n",
      "16 - Daniël\n",
      "17 - Daniël\n",
      "18 - Daniël\n",
      "19 - Daniël\n",
      "20 - Daniël\n",
      "21 - Daniël\n",
      "22 - Daniël\n",
      "23 - Daniël\n"
     ]
    }
   ],
   "source": [
    "# 1. Formulate a solution\n",
    "\n",
    "#1- Geef een naam op en stop dit in een variabel\n",
    "#2- Geef aan hoe vaak de naam moet worden geprint\n",
    "#3- Maak een counter waarmee het aantal keer printen wordt bijgehouden\n",
    "#4- Stop met printen zodra de naam 23 keer is geprint\n",
    "\n",
    "\n",
    "# 2. Implement the solution\n",
    "\n",
    "mijn_naam = \"Daniël\"\n",
    "\n",
    "aantal_printjes = 23\n",
    "\n",
    "counter_v = 1\n",
    "\n",
    "while counter_v <= aantal_printjes:\n",
    "    print(f\"{counter_v} - {mijn_naam}\")\n",
    "    \n",
    "    counter_v += 1\n",
    "    "
   ]
  },
  {
   "cell_type": "markdown",
   "id": "379ec167",
   "metadata": {},
   "source": [
    "### 2. Optellen*"
   ]
  },
  {
   "cell_type": "markdown",
   "id": "d21d8212",
   "metadata": {},
   "source": [
    "- Tel de getallen 0, 1, 2, ... t/m 100 op\n",
    "- Print het resultaat"
   ]
  },
  {
   "cell_type": "code",
   "execution_count": 103,
   "id": "92ac6462",
   "metadata": {},
   "outputs": [
    {
     "name": "stdout",
     "output_type": "stream",
     "text": [
      "5050\n",
      "5050\n",
      "5050\n"
     ]
    }
   ],
   "source": [
    "# 1. Formulate a solution\n",
    "\n",
    "#1- maak een variabel aan waarin de opsomming wordt bijgehouden en zet deze op 0\n",
    "#2- tel van 0 tot 100, en tel elk getal op bij de opsommingvariabel \n",
    "#3- laat het eindresultaat zien\n",
    "\n",
    "# 2. Implement the solution\n",
    "\n",
    "#1- maak een variabel aan waarin de opsomming wordt bijgehouden en zet deze op 0\n",
    "som = 0\n",
    "teller = 1\n",
    "\n",
    "while teller <= 100:\n",
    "    som += teller\n",
    "    teller += 1\n",
    "\n",
    "print(som)\n",
    "#2- tel van 0 tot 100, en tel elk getal op bij de opsommingvariabel \n",
    "#3- laat het eindresultaat zien\n",
    "\n",
    "\n",
    "\n",
    "\n",
    "\n",
    "\n",
    "#1- maak een variabel aan waarin de opsomming wordt bijgehouden en zet deze op 0\n",
    "som_van_delen = 0\n",
    "#2- tel van 0 tot 100, en tel elk getal op bij de opsommingvariabel \n",
    "for n in range(101):\n",
    "    som_van_delen += n\n",
    "#3- laat het eindresultaat zien\n",
    "print(som_van_delen)\n",
    "\n",
    "#2- tel van 0 tot 100, en tel elk getal op bij de opsommingvariabel \n",
    "#3- laat het eindresultaat zien\n",
    "\n",
    "\n",
    "\n",
    "#een andere manier\n",
    "print(sum([i for i in range(101)]))"
   ]
  },
  {
   "cell_type": "markdown",
   "id": "9d394ec4",
   "metadata": {},
   "source": [
    "### 3. Print een specifieke som**"
   ]
  },
  {
   "cell_type": "markdown",
   "id": "894c9c7e",
   "metadata": {},
   "source": [
    "- Print de som van een getal en het vorige getal\n",
    "- Doe dit van nul tot aan een getal dat de gebruiker invoert"
   ]
  },
  {
   "cell_type": "code",
   "execution_count": 101,
   "id": "d6274b0a",
   "metadata": {},
   "outputs": [
    {
     "name": "stdout",
     "output_type": "stream",
     "text": [
      "Enter a number: 5\n"
     ]
    }
   ],
   "source": [
    "# 1. Formulate a solution\n",
    "#phew"
   ]
  },
  {
   "cell_type": "markdown",
   "id": "9e30cf7d",
   "metadata": {},
   "source": [
    "## Gecombineerd"
   ]
  },
  {
   "cell_type": "markdown",
   "id": "d728ef64",
   "metadata": {},
   "source": [
    "### 1. Print alle medeklinkers van een woord of zin***"
   ]
  },
  {
   "cell_type": "markdown",
   "id": "0cfcd436",
   "metadata": {},
   "source": [
    "- Vraag de gebruiker om een woord of zin in te voeren\n",
    "- Print vervolgens alle medeklinkers\n",
    "- Als de invoer een zin is, print dan ook alle spaties en leestekens"
   ]
  },
  {
   "cell_type": "code",
   "execution_count": 100,
   "id": "0112311d",
   "metadata": {},
   "outputs": [
    {
     "name": "stdout",
     "output_type": "stream",
     "text": [
      "Geef een zin op: HoI!\n",
      "HI!\n"
     ]
    }
   ],
   "source": [
    "# 1. Start simple: take the word \"simpel\"\n",
    "\n",
    "# 2. Explain your solution in words only\n",
    "\n",
    "# 3. Write down your solution in pseudo code\n",
    "\n",
    "# 4. Implement your pseudo code in Python\n",
    "\n",
    "# 5. Extend your solution to the general case\n",
    "\n",
    "inp_string = input(\"Geef een zin op: \")\n",
    "\n",
    "print(''.join([c for c in inp_string if c not in \"aeoui\"]))"
   ]
  },
  {
   "cell_type": "markdown",
   "id": "ed2dd7e2",
   "metadata": {},
   "source": [
    "# 2. Print een diamant vorm***"
   ]
  },
  {
   "cell_type": "markdown",
   "id": "d8438e85",
   "metadata": {},
   "source": [
    "- Vraag de gebruiker om een hoogte\n",
    "- Print vervolgens een diamant van die hoogte\n",
    "\n",
    "Hint: zijn er hoogtes waarvoor dit niet lukt? Zo ja, laat de gebruiker dit dan weten."
   ]
  },
  {
   "cell_type": "code",
   "execution_count": 102,
   "id": "8c5501e3",
   "metadata": {},
   "outputs": [],
   "source": [
    "# An example with height 7\n",
    "\n",
    "#    *\n",
    "#   ***\n",
    "#  *****\n",
    "# *******\n",
    "#  *****\n",
    "#   ***\n",
    "#    *\n",
    "\n",
    "# 1. Start simple: take the example above\n",
    "\n",
    "# 2. Explain your solution in words only\n",
    "\n",
    "# 3. Write down your solution in pseudo code\n",
    "\n",
    "# 4. Implement your pseudo code in Python\n",
    "\n",
    "# 5. Extend your solution to the general case"
   ]
  },
  {
   "cell_type": "code",
   "execution_count": null,
   "id": "1bceecd6",
   "metadata": {},
   "outputs": [],
   "source": [
    "#code here"
   ]
  }
 ],
 "metadata": {
  "kernelspec": {
   "display_name": "Python 3 (ipykernel)",
   "language": "python",
   "name": "python3"
  },
  "language_info": {
   "codemirror_mode": {
    "name": "ipython",
    "version": 3
   },
   "file_extension": ".py",
   "mimetype": "text/x-python",
   "name": "python",
   "nbconvert_exporter": "python",
   "pygments_lexer": "ipython3",
   "version": "3.10.9"
  }
 },
 "nbformat": 4,
 "nbformat_minor": 5
}
