{
 "cells": [
  {
   "cell_type": "code",
   "execution_count": 97,
   "id": "56ca93cf",
   "metadata": {},
   "outputs": [],
   "source": [
    "#importeren van de libraries die we gebruiken bij de dataverkenning\n",
    "import pandas as pd\n",
    "import json\n",
    "import requests\n",
    "import seaborn as sns\n",
    "import matplotlib.pyplot as plt\n",
    "import numpy as np"
   ]
  },
  {
   "cell_type": "code",
   "execution_count": 98,
   "id": "582b38c2",
   "metadata": {},
   "outputs": [
    {
     "data": {
      "text/plain": [
       "'Op het moment van schrijven is er nog geen nieuwe rest-server versie van de data, dus gebruik ik hier de csv\\nvan de nieuwe data. Zodra de data op te halen is vanaf de server zal ik dit in deze notebook zetten'"
      ]
     },
     "execution_count": 98,
     "metadata": {},
     "output_type": "execute_result"
    }
   ],
   "source": [
    "'''Op het moment van schrijven is er nog geen nieuwe rest-server versie van de data, dus gebruik ik hier de csv\n",
    "van de nieuwe data. Zodra de data op te halen is vanaf de server zal ik dit in deze notebook zetten'''"
   ]
  },
  {
   "cell_type": "code",
   "execution_count": 99,
   "id": "a4eba68a",
   "metadata": {},
   "outputs": [],
   "source": [
    "#dataframe maken van csv\n",
    "df = pd.read_csv('data_new.csv')"
   ]
  },
  {
   "cell_type": "code",
   "execution_count": 100,
   "id": "04a78a63",
   "metadata": {},
   "outputs": [
    {
     "data": {
      "text/html": [
       "<div>\n",
       "<style scoped>\n",
       "    .dataframe tbody tr th:only-of-type {\n",
       "        vertical-align: middle;\n",
       "    }\n",
       "\n",
       "    .dataframe tbody tr th {\n",
       "        vertical-align: top;\n",
       "    }\n",
       "\n",
       "    .dataframe thead th {\n",
       "        text-align: right;\n",
       "    }\n",
       "</style>\n",
       "<table border=\"1\" class=\"dataframe\">\n",
       "  <thead>\n",
       "    <tr style=\"text-align: right;\">\n",
       "      <th></th>\n",
       "      <th>genetic</th>\n",
       "      <th>length</th>\n",
       "      <th>mass</th>\n",
       "      <th>exercise</th>\n",
       "      <th>smoking</th>\n",
       "      <th>alcohol</th>\n",
       "      <th>sugar</th>\n",
       "      <th>lifespan</th>\n",
       "    </tr>\n",
       "  </thead>\n",
       "  <tbody>\n",
       "    <tr>\n",
       "      <th>0</th>\n",
       "      <td>73.9</td>\n",
       "      <td>185</td>\n",
       "      <td>99.7</td>\n",
       "      <td>0.9</td>\n",
       "      <td>0.0</td>\n",
       "      <td>2.4</td>\n",
       "      <td>6.9</td>\n",
       "      <td>73.1</td>\n",
       "    </tr>\n",
       "    <tr>\n",
       "      <th>1</th>\n",
       "      <td>86.0</td>\n",
       "      <td>172</td>\n",
       "      <td>105.4</td>\n",
       "      <td>1.8</td>\n",
       "      <td>8.1</td>\n",
       "      <td>0.4</td>\n",
       "      <td>4.2</td>\n",
       "      <td>85.0</td>\n",
       "    </tr>\n",
       "    <tr>\n",
       "      <th>2</th>\n",
       "      <td>83.3</td>\n",
       "      <td>176</td>\n",
       "      <td>111.4</td>\n",
       "      <td>1.1</td>\n",
       "      <td>0.8</td>\n",
       "      <td>4.6</td>\n",
       "      <td>7.5</td>\n",
       "      <td>81.6</td>\n",
       "    </tr>\n",
       "    <tr>\n",
       "      <th>3</th>\n",
       "      <td>82.8</td>\n",
       "      <td>164</td>\n",
       "      <td>111.4</td>\n",
       "      <td>4.7</td>\n",
       "      <td>11.8</td>\n",
       "      <td>1.0</td>\n",
       "      <td>2.9</td>\n",
       "      <td>81.0</td>\n",
       "    </tr>\n",
       "    <tr>\n",
       "      <th>4</th>\n",
       "      <td>78.7</td>\n",
       "      <td>178</td>\n",
       "      <td>71.6</td>\n",
       "      <td>1.5</td>\n",
       "      <td>8.3</td>\n",
       "      <td>4.9</td>\n",
       "      <td>5.5</td>\n",
       "      <td>75.0</td>\n",
       "    </tr>\n",
       "  </tbody>\n",
       "</table>\n",
       "</div>"
      ],
      "text/plain": [
       "  genetic length   mass exercise  smoking alcohol sugar  lifespan\n",
       "0    73.9    185   99.7      0.9      0.0     2.4   6.9      73.1\n",
       "1    86.0    172  105.4      1.8      8.1     0.4   4.2      85.0\n",
       "2    83.3    176  111.4      1.1      0.8     4.6   7.5      81.6\n",
       "3    82.8    164  111.4      4.7     11.8     1.0   2.9      81.0\n",
       "4    78.7    178   71.6      1.5      8.3     4.9   5.5      75.0"
      ]
     },
     "execution_count": 100,
     "metadata": {},
     "output_type": "execute_result"
    }
   ],
   "source": [
    "#eerste blik werpen op ons df\n",
    "df.head()"
   ]
  },
  {
   "cell_type": "code",
   "execution_count": 101,
   "id": "cbbaa27e",
   "metadata": {},
   "outputs": [
    {
     "data": {
      "text/plain": [
       "(4096, 8)"
      ]
     },
     "execution_count": 101,
     "metadata": {},
     "output_type": "execute_result"
    }
   ],
   "source": [
    "#kijken hoeveel rijen we hebben\n",
    "df.shape"
   ]
  },
  {
   "cell_type": "code",
   "execution_count": 102,
   "id": "68f44bae",
   "metadata": {},
   "outputs": [
    {
     "data": {
      "text/plain": [
       "'We hebben dus een dataframe met 4096 rijen (waarbinnen elke rij de data van één persoon bevat). \\nDaarnaast hebben we voor elke rij/persoon 8 variabelen.'"
      ]
     },
     "execution_count": 102,
     "metadata": {},
     "output_type": "execute_result"
    }
   ],
   "source": [
    "'''We hebben dus een dataframe met 4096 rijen (waarbinnen elke rij de data van één persoon bevat). \n",
    "Daarnaast hebben we voor elke rij/persoon 8 variabelen.'''"
   ]
  },
  {
   "cell_type": "code",
   "execution_count": 103,
   "id": "420ed775",
   "metadata": {},
   "outputs": [
    {
     "name": "stdout",
     "output_type": "stream",
     "text": [
      "<class 'pandas.core.frame.DataFrame'>\n",
      "RangeIndex: 4096 entries, 0 to 4095\n",
      "Data columns (total 8 columns):\n",
      " #   Column    Non-Null Count  Dtype  \n",
      "---  ------    --------------  -----  \n",
      " 0   genetic   4096 non-null   object \n",
      " 1   length    4096 non-null   object \n",
      " 2   mass      4096 non-null   object \n",
      " 3   exercise  4096 non-null   object \n",
      " 4   smoking   4096 non-null   float64\n",
      " 5   alcohol   4096 non-null   object \n",
      " 6   sugar     4096 non-null   object \n",
      " 7   lifespan  4096 non-null   float64\n",
      "dtypes: float64(2), object(6)\n",
      "memory usage: 256.1+ KB\n"
     ]
    }
   ],
   "source": [
    "#we bekijken wat voor soort data we hebben in elke kolom\n",
    "df.info()"
   ]
  },
  {
   "cell_type": "code",
   "execution_count": 104,
   "id": "67af464e",
   "metadata": {},
   "outputs": [
    {
     "data": {
      "text/html": [
       "<div>\n",
       "<style scoped>\n",
       "    .dataframe tbody tr th:only-of-type {\n",
       "        vertical-align: middle;\n",
       "    }\n",
       "\n",
       "    .dataframe tbody tr th {\n",
       "        vertical-align: top;\n",
       "    }\n",
       "\n",
       "    .dataframe thead th {\n",
       "        text-align: right;\n",
       "    }\n",
       "</style>\n",
       "<table border=\"1\" class=\"dataframe\">\n",
       "  <thead>\n",
       "    <tr style=\"text-align: right;\">\n",
       "      <th></th>\n",
       "      <th>smoking</th>\n",
       "      <th>lifespan</th>\n",
       "    </tr>\n",
       "  </thead>\n",
       "  <tbody>\n",
       "    <tr>\n",
       "      <th>count</th>\n",
       "      <td>4096.000000</td>\n",
       "      <td>4096.000000</td>\n",
       "    </tr>\n",
       "    <tr>\n",
       "      <th>mean</th>\n",
       "      <td>9.807446</td>\n",
       "      <td>80.127783</td>\n",
       "    </tr>\n",
       "    <tr>\n",
       "      <th>std</th>\n",
       "      <td>6.921461</td>\n",
       "      <td>8.042270</td>\n",
       "    </tr>\n",
       "    <tr>\n",
       "      <th>min</th>\n",
       "      <td>0.000000</td>\n",
       "      <td>-1.000000</td>\n",
       "    </tr>\n",
       "    <tr>\n",
       "      <th>25%</th>\n",
       "      <td>3.300000</td>\n",
       "      <td>75.000000</td>\n",
       "    </tr>\n",
       "    <tr>\n",
       "      <th>50%</th>\n",
       "      <td>9.500000</td>\n",
       "      <td>79.700000</td>\n",
       "    </tr>\n",
       "    <tr>\n",
       "      <th>75%</th>\n",
       "      <td>15.900000</td>\n",
       "      <td>85.200000</td>\n",
       "    </tr>\n",
       "    <tr>\n",
       "      <th>max</th>\n",
       "      <td>22.200000</td>\n",
       "      <td>105.100000</td>\n",
       "    </tr>\n",
       "  </tbody>\n",
       "</table>\n",
       "</div>"
      ],
      "text/plain": [
       "           smoking     lifespan\n",
       "count  4096.000000  4096.000000\n",
       "mean      9.807446    80.127783\n",
       "std       6.921461     8.042270\n",
       "min       0.000000    -1.000000\n",
       "25%       3.300000    75.000000\n",
       "50%       9.500000    79.700000\n",
       "75%      15.900000    85.200000\n",
       "max      22.200000   105.100000"
      ]
     },
     "execution_count": 104,
     "metadata": {},
     "output_type": "execute_result"
    }
   ],
   "source": [
    "#hier lopen we tegen een eerste probleem aan. Alleen lifespan en smoking zijn floats, de rest van de variabelen\n",
    "#zijn van het type 'object', en worden hierdoor kennelijk niet meegenomen door .describe()\n",
    "df.describe()\n",
    "\n",
    "#df.astype(float) werkt niet, want dit geeft aan dat er '?' waardes in het df zitten"
   ]
  },
  {
   "cell_type": "code",
   "execution_count": 105,
   "id": "7a83a827",
   "metadata": {},
   "outputs": [
    {
     "name": "stdout",
     "output_type": "stream",
     "text": [
      "genetic     1\n",
      "length      0\n",
      "mass        2\n",
      "exercise    1\n",
      "smoking     0\n",
      "alcohol     2\n",
      "sugar       1\n",
      "lifespan    0\n",
      "dtype: int64\n"
     ]
    }
   ],
   "source": [
    "#Het lijkt erop dat er een aantal waardes in het df dus '?' bevatten. We bekijken hoeveel dit er zijn:\n",
    "\n",
    "print(df.isin(['?']).sum(axis=0))"
   ]
  },
  {
   "cell_type": "code",
   "execution_count": 106,
   "id": "f0b6ab32",
   "metadata": {},
   "outputs": [
    {
     "name": "stdout",
     "output_type": "stream",
     "text": [
      "genetic     0\n",
      "length      0\n",
      "mass        0\n",
      "exercise    0\n",
      "smoking     0\n",
      "alcohol     0\n",
      "sugar       0\n",
      "lifespan    0\n",
      "dtype: int64\n"
     ]
    }
   ],
   "source": [
    "#We verwijderen de rijen met een '?' waarde:\n",
    "\n",
    "for c in df.columns:\n",
    "    df.drop(df.index[df[c] == '?'], inplace = True)\n",
    "\n",
    "#Nogmaals checken of ze er uit zijn:\n",
    "\n",
    "print(df.isin(['?']).sum(axis=0))"
   ]
  },
  {
   "cell_type": "code",
   "execution_count": 107,
   "id": "b6bb0c04",
   "metadata": {},
   "outputs": [
    {
     "name": "stdout",
     "output_type": "stream",
     "text": [
      "string\n",
      "string\n",
      "string\n",
      "string\n",
      "floating\n",
      "string\n",
      "string\n",
      "floating\n"
     ]
    }
   ],
   "source": [
    "#We kunnen specifieker bekijken wat er voor type data er in elke kolom staat:\n",
    "\n",
    "for c in df.columns:\n",
    "    print(pd.api.types.infer_dtype(df[c]))"
   ]
  },
  {
   "cell_type": "code",
   "execution_count": 108,
   "id": "7e5359a6",
   "metadata": {},
   "outputs": [],
   "source": [
    "# We hebben dus een aantal columns die van het type string zijn. \n",
    "\n",
    "# We veranderen nu alle columns naar het datatype float:\n",
    "for c in df.columns:\n",
    "    df[c] = pd.to_numeric(df[c], errors='coerce')"
   ]
  },
  {
   "cell_type": "code",
   "execution_count": 109,
   "id": "65d700f5",
   "metadata": {
    "scrolled": true
   },
   "outputs": [
    {
     "name": "stdout",
     "output_type": "stream",
     "text": [
      "genetic      0\n",
      "length       0\n",
      "mass         0\n",
      "exercise     0\n",
      "smoking     53\n",
      "alcohol     12\n",
      "sugar        0\n",
      "lifespan     0\n",
      "dtype: int64\n"
     ]
    }
   ],
   "source": [
    "#Wat we ook nog moeten bekijken is of er cellen zijn met als waarde '0' terwijl dit niet zou kunnen,\n",
    "#zoals bij lengte, massa of lifespan\n",
    "print(df.isin([0]).sum(axis=0))"
   ]
  },
  {
   "cell_type": "code",
   "execution_count": 110,
   "id": "103c87be",
   "metadata": {},
   "outputs": [
    {
     "data": {
      "text/html": [
       "<div>\n",
       "<style scoped>\n",
       "    .dataframe tbody tr th:only-of-type {\n",
       "        vertical-align: middle;\n",
       "    }\n",
       "\n",
       "    .dataframe tbody tr th {\n",
       "        vertical-align: top;\n",
       "    }\n",
       "\n",
       "    .dataframe thead th {\n",
       "        text-align: right;\n",
       "    }\n",
       "</style>\n",
       "<table border=\"1\" class=\"dataframe\">\n",
       "  <thead>\n",
       "    <tr style=\"text-align: right;\">\n",
       "      <th></th>\n",
       "      <th>genetic</th>\n",
       "      <th>length</th>\n",
       "      <th>mass</th>\n",
       "      <th>exercise</th>\n",
       "      <th>smoking</th>\n",
       "      <th>alcohol</th>\n",
       "      <th>sugar</th>\n",
       "      <th>lifespan</th>\n",
       "    </tr>\n",
       "  </thead>\n",
       "  <tbody>\n",
       "    <tr>\n",
       "      <th>count</th>\n",
       "      <td>4089.000000</td>\n",
       "      <td>4086.000000</td>\n",
       "      <td>4089.000000</td>\n",
       "      <td>4089.000000</td>\n",
       "      <td>4089.000000</td>\n",
       "      <td>4089.000000</td>\n",
       "      <td>4089.000000</td>\n",
       "      <td>4089.000000</td>\n",
       "    </tr>\n",
       "    <tr>\n",
       "      <th>mean</th>\n",
       "      <td>82.274762</td>\n",
       "      <td>183.879344</td>\n",
       "      <td>92.277085</td>\n",
       "      <td>2.403057</td>\n",
       "      <td>9.808853</td>\n",
       "      <td>2.265909</td>\n",
       "      <td>6.485424</td>\n",
       "      <td>80.133749</td>\n",
       "    </tr>\n",
       "    <tr>\n",
       "      <th>std</th>\n",
       "      <td>7.441850</td>\n",
       "      <td>12.627470</td>\n",
       "      <td>25.795830</td>\n",
       "      <td>1.170342</td>\n",
       "      <td>6.918644</td>\n",
       "      <td>1.800475</td>\n",
       "      <td>2.710271</td>\n",
       "      <td>8.041613</td>\n",
       "    </tr>\n",
       "    <tr>\n",
       "      <th>min</th>\n",
       "      <td>63.900000</td>\n",
       "      <td>154.000000</td>\n",
       "      <td>50.000000</td>\n",
       "      <td>0.100000</td>\n",
       "      <td>0.000000</td>\n",
       "      <td>0.000000</td>\n",
       "      <td>0.700000</td>\n",
       "      <td>-1.000000</td>\n",
       "    </tr>\n",
       "    <tr>\n",
       "      <th>25%</th>\n",
       "      <td>77.600000</td>\n",
       "      <td>175.000000</td>\n",
       "      <td>71.500000</td>\n",
       "      <td>1.500000</td>\n",
       "      <td>3.400000</td>\n",
       "      <td>0.600000</td>\n",
       "      <td>4.400000</td>\n",
       "      <td>75.000000</td>\n",
       "    </tr>\n",
       "    <tr>\n",
       "      <th>50%</th>\n",
       "      <td>81.800000</td>\n",
       "      <td>184.000000</td>\n",
       "      <td>89.500000</td>\n",
       "      <td>2.200000</td>\n",
       "      <td>9.500000</td>\n",
       "      <td>1.700000</td>\n",
       "      <td>6.300000</td>\n",
       "      <td>79.700000</td>\n",
       "    </tr>\n",
       "    <tr>\n",
       "      <th>75%</th>\n",
       "      <td>86.700000</td>\n",
       "      <td>193.000000</td>\n",
       "      <td>110.900000</td>\n",
       "      <td>3.200000</td>\n",
       "      <td>15.900000</td>\n",
       "      <td>4.000000</td>\n",
       "      <td>8.400000</td>\n",
       "      <td>85.200000</td>\n",
       "    </tr>\n",
       "    <tr>\n",
       "      <th>max</th>\n",
       "      <td>102.200000</td>\n",
       "      <td>214.000000</td>\n",
       "      <td>163.600000</td>\n",
       "      <td>5.500000</td>\n",
       "      <td>22.200000</td>\n",
       "      <td>6.000000</td>\n",
       "      <td>13.800000</td>\n",
       "      <td>105.100000</td>\n",
       "    </tr>\n",
       "  </tbody>\n",
       "</table>\n",
       "</div>"
      ],
      "text/plain": [
       "           genetic       length         mass     exercise      smoking  \\\n",
       "count  4089.000000  4086.000000  4089.000000  4089.000000  4089.000000   \n",
       "mean     82.274762   183.879344    92.277085     2.403057     9.808853   \n",
       "std       7.441850    12.627470    25.795830     1.170342     6.918644   \n",
       "min      63.900000   154.000000    50.000000     0.100000     0.000000   \n",
       "25%      77.600000   175.000000    71.500000     1.500000     3.400000   \n",
       "50%      81.800000   184.000000    89.500000     2.200000     9.500000   \n",
       "75%      86.700000   193.000000   110.900000     3.200000    15.900000   \n",
       "max     102.200000   214.000000   163.600000     5.500000    22.200000   \n",
       "\n",
       "           alcohol        sugar     lifespan  \n",
       "count  4089.000000  4089.000000  4089.000000  \n",
       "mean      2.265909     6.485424    80.133749  \n",
       "std       1.800475     2.710271     8.041613  \n",
       "min       0.000000     0.700000    -1.000000  \n",
       "25%       0.600000     4.400000    75.000000  \n",
       "50%       1.700000     6.300000    79.700000  \n",
       "75%       4.000000     8.400000    85.200000  \n",
       "max       6.000000    13.800000   105.100000  "
      ]
     },
     "execution_count": 110,
     "metadata": {},
     "output_type": "execute_result"
    }
   ],
   "source": [
    "#Nu hebben we een dataframe zonder lege cellen en met enkel floats als datatypes\n",
    "df.describe()"
   ]
  },
  {
   "cell_type": "code",
   "execution_count": 111,
   "id": "6df2a5c0",
   "metadata": {
    "scrolled": true
   },
   "outputs": [],
   "source": [
    "# We zien nog wel dat er bijvoorbeeld vreemde waardes in het df staan; zo is de minimale waarde\n",
    "# van 'lifespan' -1, en dat klopt natuurlijk niet. Dit brengt ons bij het detecteren van eventuele outliers:"
   ]
  },
  {
   "cell_type": "code",
   "execution_count": 112,
   "id": "bca580fa",
   "metadata": {},
   "outputs": [
    {
     "data": {
      "text/plain": [
       "<AxesSubplot: xlabel='lifespan'>"
      ]
     },
     "execution_count": 112,
     "metadata": {},
     "output_type": "execute_result"
    },
    {
     "data": {
      "image/png": "[encoded data removed]",
      "text/plain": [
       "<Figure size 640x480 with 1 Axes>"
      ]
     },
     "metadata": {},
     "output_type": "display_data"
    }
   ],
   "source": [
    "sns.boxplot(x=df['lifespan'])"
   ]
  },
  {
   "cell_type": "code",
   "execution_count": 113,
   "id": "db7ed626",
   "metadata": {},
   "outputs": [
    {
     "data": {
      "text/html": [
       "<div>\n",
       "<style scoped>\n",
       "    .dataframe tbody tr th:only-of-type {\n",
       "        vertical-align: middle;\n",
       "    }\n",
       "\n",
       "    .dataframe tbody tr th {\n",
       "        vertical-align: top;\n",
       "    }\n",
       "\n",
       "    .dataframe thead th {\n",
       "        text-align: right;\n",
       "    }\n",
       "</style>\n",
       "<table border=\"1\" class=\"dataframe\">\n",
       "  <thead>\n",
       "    <tr style=\"text-align: right;\">\n",
       "      <th></th>\n",
       "      <th>genetic</th>\n",
       "      <th>length</th>\n",
       "      <th>mass</th>\n",
       "      <th>exercise</th>\n",
       "      <th>smoking</th>\n",
       "      <th>alcohol</th>\n",
       "      <th>sugar</th>\n",
       "      <th>lifespan</th>\n",
       "    </tr>\n",
       "  </thead>\n",
       "  <tbody>\n",
       "    <tr>\n",
       "      <th>889</th>\n",
       "      <td>88.1</td>\n",
       "      <td>156.0</td>\n",
       "      <td>112.9</td>\n",
       "      <td>0.7</td>\n",
       "      <td>19.5</td>\n",
       "      <td>0.9</td>\n",
       "      <td>3.0</td>\n",
       "      <td>-1.0</td>\n",
       "    </tr>\n",
       "    <tr>\n",
       "      <th>2300</th>\n",
       "      <td>82.6</td>\n",
       "      <td>188.0</td>\n",
       "      <td>63.1</td>\n",
       "      <td>3.6</td>\n",
       "      <td>15.0</td>\n",
       "      <td>0.2</td>\n",
       "      <td>1.0</td>\n",
       "      <td>-1.0</td>\n",
       "    </tr>\n",
       "  </tbody>\n",
       "</table>\n",
       "</div>"
      ],
      "text/plain": [
       "      genetic  length   mass  exercise  smoking  alcohol  sugar  lifespan\n",
       "889      88.1   156.0  112.9       0.7     19.5      0.9    3.0      -1.0\n",
       "2300     82.6   188.0   63.1       3.6     15.0      0.2    1.0      -1.0"
      ]
     },
     "execution_count": 113,
     "metadata": {},
     "output_type": "execute_result"
    }
   ],
   "source": [
    "#Dit is overduidelijk een fout datapunt, aangezien het niet mogelijk is om een lifespan van -1 te hebben. \n",
    "#We kijken of er nog meer rijen zijn waarin dit zo is (dit is niet goed te zien op de boxplot):\n",
    "\n",
    "df.loc[df['lifespan'] < 0]"
   ]
  },
  {
   "cell_type": "code",
   "execution_count": 114,
   "id": "3e59b401",
   "metadata": {},
   "outputs": [],
   "source": [
    "#We zien dat het om twee rijen gaat. Deze verwijderen we uit het dataframe:\n",
    "\n",
    "df.drop(df.loc[df['lifespan'] < 0].index, inplace=True)"
   ]
  },
  {
   "cell_type": "code",
   "execution_count": 115,
   "id": "f5934f5e",
   "metadata": {},
   "outputs": [
    {
     "data": {
      "text/html": [
       "<div>\n",
       "<style scoped>\n",
       "    .dataframe tbody tr th:only-of-type {\n",
       "        vertical-align: middle;\n",
       "    }\n",
       "\n",
       "    .dataframe tbody tr th {\n",
       "        vertical-align: top;\n",
       "    }\n",
       "\n",
       "    .dataframe thead th {\n",
       "        text-align: right;\n",
       "    }\n",
       "</style>\n",
       "<table border=\"1\" class=\"dataframe\">\n",
       "  <thead>\n",
       "    <tr style=\"text-align: right;\">\n",
       "      <th></th>\n",
       "      <th>genetic</th>\n",
       "      <th>length</th>\n",
       "      <th>mass</th>\n",
       "      <th>exercise</th>\n",
       "      <th>smoking</th>\n",
       "      <th>alcohol</th>\n",
       "      <th>sugar</th>\n",
       "      <th>lifespan</th>\n",
       "    </tr>\n",
       "  </thead>\n",
       "  <tbody>\n",
       "  </tbody>\n",
       "</table>\n",
       "</div>"
      ],
      "text/plain": [
       "Empty DataFrame\n",
       "Columns: [genetic, length, mass, exercise, smoking, alcohol, sugar, lifespan]\n",
       "Index: []"
      ]
     },
     "execution_count": 115,
     "metadata": {},
     "output_type": "execute_result"
    }
   ],
   "source": [
    "df.loc[df['lifespan'] < 0] # geeft nu geen rijen meer terug, dat is mooi."
   ]
  },
  {
   "cell_type": "code",
   "execution_count": 116,
   "id": "99cba36a",
   "metadata": {
    "scrolled": false
   },
   "outputs": [
    {
     "data": {
      "text/plain": [
       "<AxesSubplot: >"
      ]
     },
     "execution_count": 116,
     "metadata": {},
     "output_type": "execute_result"
    },
    {
     "data": {
      "image/png": "[encoded data removed]",
      "text/plain": [
       "<Figure size 640x480 with 1 Axes>"
      ]
     },
     "metadata": {},
     "output_type": "display_data"
    }
   ],
   "source": [
    "# We kunnen nog voor alle andere variabelen boxplots maken, hoewel de assen dan niet goed zijn geschaald:\n",
    "sns.boxplot(df)"
   ]
  },
  {
   "cell_type": "code",
   "execution_count": null,
   "id": "1376e37b",
   "metadata": {},
   "outputs": [],
   "source": [
    "#Er lijken alleen nog wat outliers te zitten in 'genetic' en 'lifespan', maar aangezien dit geen onmogelijke waardes\n",
    "#zijn, en ons model in het geval van de \"juiste\" input ook moet kunnen voorspellen dat iemand 100+ wordt, halen\n",
    "#we deze er niet uit. Met een max waarde van 105.1 is het ook geen uitzonderlijk hoge waarde. "
   ]
  },
  {
   "cell_type": "code",
   "execution_count": 93,
   "id": "c6eba930",
   "metadata": {},
   "outputs": [],
   "source": [
    "#Nu kunnen we een BMI variabel toevoegen aan ons dataframe - zo kunnen we kijken of deze gecombineerde waarde meer \n",
    "#zegt/voorspellen waarde heeft dan lengte en massa apart:\n",
    "\n",
    "df['BMI'] = df['mass'] / ((df['length'])/100)**2"
   ]
  },
  {
   "cell_type": "code",
   "execution_count": 94,
   "id": "7d828064",
   "metadata": {},
   "outputs": [
    {
     "data": {
      "text/plain": [
       "count    4084.000000\n",
       "mean       27.682015\n",
       "std         8.711661\n",
       "min        11.320500\n",
       "25%        20.938542\n",
       "50%        26.476726\n",
       "75%        33.207260\n",
       "max        65.869494\n",
       "Name: BMI, dtype: float64"
      ]
     },
     "execution_count": 94,
     "metadata": {},
     "output_type": "execute_result"
    }
   ],
   "source": [
    "df['BMI'].describe()"
   ]
  },
  {
   "cell_type": "code",
   "execution_count": 95,
   "id": "f397f15c",
   "metadata": {},
   "outputs": [
    {
     "data": {
      "text/plain": [
       "<AxesSubplot: xlabel='BMI'>"
      ]
     },
     "execution_count": 95,
     "metadata": {},
     "output_type": "execute_result"
    },
    {
     "data": {
      "image/png": "[encoded data removed]",
      "text/plain": [
       "<Figure size 640x480 with 1 Axes>"
      ]
     },
     "metadata": {},
     "output_type": "display_data"
    }
   ],
   "source": [
    "sns.boxplot(x=df['BMI'])"
   ]
  },
  {
   "cell_type": "code",
   "execution_count": 119,
   "id": "1d23d77e",
   "metadata": {},
   "outputs": [
    {
     "data": {
      "text/plain": [
       "<AxesSubplot: >"
      ]
     },
     "execution_count": 119,
     "metadata": {},
     "output_type": "execute_result"
    },
    {
     "data": {
      "image/png": "[encoded data removed]",
      "text/plain": [
       "<Figure size 640x480 with 2 Axes>"
      ]
     },
     "metadata": {},
     "output_type": "display_data"
    }
   ],
   "source": [
    "sns.heatmap(df.corr())"
   ]
  },
  {
   "cell_type": "code",
   "execution_count": null,
   "id": "6022a98e",
   "metadata": {},
   "outputs": [],
   "source": []
  }
 ],
 "metadata": {
  "kernelspec": {
   "display_name": "Python 3 (ipykernel)",
   "language": "python",
   "name": "python3"
  },
  "language_info": {
   "codemirror_mode": {
    "name": "ipython",
    "version": 3
   },
   "file_extension": ".py",
   "mimetype": "text/x-python",
   "name": "python",
   "nbconvert_exporter": "python",
   "pygments_lexer": "ipython3",
   "version": "3.10.9"
  }
 },
 "nbformat": 4,
 "nbformat_minor": 5
}
